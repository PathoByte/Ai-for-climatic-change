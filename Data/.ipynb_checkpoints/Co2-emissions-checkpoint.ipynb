{
 "cells": [
  {
   "cell_type": "code",
   "execution_count": 9,
   "id": "76d056d7",
   "metadata": {},
   "outputs": [
    {
     "name": "stdout",
     "output_type": "stream",
     "text": [
      "               Country Data source                Sector  Gas    Unit  \\\n",
      "0                World        CAIT  Total including LUCF  CO2  MtCO₂e   \n",
      "1                China        CAIT  Total including LUCF  CO2  MtCO₂e   \n",
      "2        United States        CAIT  Total including LUCF  CO2  MtCO₂e   \n",
      "3  European Union (27)        CAIT  Total including LUCF  CO2  MtCO₂e   \n",
      "4                India        CAIT  Total including LUCF  CO2  MtCO₂e   \n",
      "\n",
      "       2018      2017      2016      2015      2014  ...      1999      1998  \\\n",
      "0  36441.55  35588.70  35160.60  34521.91  34558.59  ...  24957.30  24895.32   \n",
      "1   9663.36   9367.67   9164.21   9120.27   9184.77  ...   2799.84   2882.75   \n",
      "2   4749.57   4581.90   4656.84   4563.52   4683.35  ...   5191.66   5172.06   \n",
      "3   2636.99   2692.12   2669.54   2321.61   2263.78  ...   3079.46   3134.03   \n",
      "4   2400.25   2267.16   2149.01   2085.38   2072.03  ...    683.00    618.73   \n",
      "\n",
      "       1997      1996      1995      1994      1993      1992      1991  \\\n",
      "0  25292.92  24214.92  23890.22  23260.29  23124.00  22988.29  23056.40   \n",
      "1   2779.27   2715.50   2735.48   2414.50   2294.12   2068.77   1952.78   \n",
      "2   5129.29   4864.46   4708.31   4654.52   4581.76   4461.62   4389.50   \n",
      "3   3142.23   3210.93   3113.68   3060.09   3072.40   3133.06   3247.48   \n",
      "4    600.38    555.60    519.98    466.79    431.31    409.09    386.17   \n",
      "\n",
      "       1990  \n",
      "0  22849.92  \n",
      "1   1823.96  \n",
      "2   4426.40  \n",
      "3   3286.44  \n",
      "4    341.32  \n",
      "\n",
      "[5 rows x 34 columns]\n"
     ]
    }
   ],
   "source": [
    "import pandas as pd\n",
    "\n",
    "df = pd.read_csv('historical_emissions.csv')\n",
    "print(df.head())\n"
   ]
  },
  {
   "cell_type": "code",
   "execution_count": 10,
   "id": "8ba408be",
   "metadata": {},
   "outputs": [],
   "source": [
    "import pandas as pd\n",
    "\n",
    "def load_data(filepath):\n",
    "    \"\"\"Load dataset from CSV\"\"\"\n",
    "    return pd.read_csv(filepath)\n",
    "\n",
    "def clean_data(df):\n",
    "    \"\"\"Clean CO2 emissions data\"\"\"\n",
    "    # Drop year columns with missing values (like 1990)\n",
    "    df = df.dropna(axis=1)\n",
    "    \n",
    "    # Convert wide format to long format (better for analysis)\n",
    "    df_long = df.melt(\n",
    "        id_vars=['Country', 'Data source', 'Sector', 'Gas', 'Unit'],\n",
    "        var_name='Year',\n",
    "        value_name='Emissions'\n",
    "    )\n",
    "    \n",
    "    # Convert Year to numeric\n",
    "    df_long['Year'] = pd.to_numeric(df_long['Year'])\n",
    "    \n",
    "    return df_long\n",
    "\n",
    "def save_clean_data(df, output_path):\n",
    "    \"\"\"Save processed data\"\"\"\n",
    "    df.to_csv(output_path, index=False)"
   ]
  },
  {
   "cell_type": "code",
   "execution_count": null,
   "id": "5d37750c",
   "metadata": {},
   "outputs": [],
   "source": []
  }
 ],
 "metadata": {
  "kernelspec": {
   "display_name": "Python 3 (ipykernel)",
   "language": "python",
   "name": "python3"
  },
  "language_info": {
   "codemirror_mode": {
    "name": "ipython",
    "version": 3
   },
   "file_extension": ".py",
   "mimetype": "text/x-python",
   "name": "python",
   "nbconvert_exporter": "python",
   "pygments_lexer": "ipython3",
   "version": "3.12.3"
  }
 },
 "nbformat": 4,
 "nbformat_minor": 5
}

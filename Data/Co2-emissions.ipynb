{
 "cells": [
  {
   "cell_type": "code",
   "execution_count": null,
   "id": "76d056d7",
   "metadata": {},
   "outputs": [],
   "source": [
    "import pandas as pd\n",
    "\n",
    "df = pd.read_csv('historical_emissions.csv')\n",
    "print(df.head())\n"
   ]
  },
  {
   "cell_type": "code",
   "execution_count": null,
   "id": "8ba408be",
   "metadata": {},
   "outputs": [],
   "source": [
    "import pandas as pd\n",
    "\n",
    "def load_data(filepath):\n",
    "    \"\"\"Load dataset from CSV\"\"\"\n",
    "    return pd.read_csv(filepath)\n",
    "\n",
    "def clean_data(df):\n",
    "    \"\"\"Clean CO2 emissions data\"\"\"\n",
    "    # Drop year columns with missing values (like 1990)\n",
    "    df = df.dropna(axis=1)\n",
    "    \n",
    "    # Convert wide format to long format (better for analysis)\n",
    "    df_long = df.melt(\n",
    "        id_vars=['Country', 'Data source', 'Sector', 'Gas', 'Unit'],\n",
    "        var_name='Year',\n",
    "        value_name='Emissions'\n",
    "    )\n",
    "    \n",
    "    # Convert Year to numeric\n",
    "    df_long['Year'] = pd.to_numeric(df_long['Year'])\n",
    "    \n",
    "    return df_long\n",
    "\n",
    "def save_clean_data(df, output_path):\n",
    "    \"\"\"Save processed data\"\"\"\n",
    "    df.to_csv(output_path, index=False)"
   ]
  },
  {
   "cell_type": "code",
   "execution_count": null,
   "id": "5d37750c",
   "metadata": {},
   "outputs": [],
   "source": [
    "# Setup cell: always run first after restart\n",
    "import pandas as pd\n",
    "from src.data_preprocessing import load_data, clean_data\n",
    "from src.model_training import prepare_features, split_data, train_model, save_model\n",
    "\n",
    "df = load_data('data/historical_emissions.csv')\n",
    "df_clean = clean_data(df)\n",
    "X, y = prepare_features(df_clean)\n",
    "X_train, X_test, y_train, y_test = split_data(X, y)\n"
   ]
  },
  {
   "cell_type": "code",
   "execution_count": null,
   "id": "05620d92",
   "metadata": {},
   "outputs": [],
   "source": [
    "from sklearn.model_selection import train_test_split\n",
    "from sklearn.linear_model import LinearRegression\n",
    "import joblib\n",
    "import json\n",
    "\n",
    "def prepare_features(df):\n",
    "    df = df[df['Gas'] == 'CO2']\n",
    "    df = df[df['Sector'] == 'Total including LUCF']\n",
    "    X = df[['Year']]\n",
    "    y = df['Emissions']\n",
    "    return X, y\n",
    "\n",
    "def split_data(X, y, test_size=0.2, random_state=42):\n",
    "    return train_test_split(X, y, test_size=test_size, random_state=random_state)\n",
    "\n",
    "def train_model(X_train, y_train):\n",
    "    model = LinearRegression()\n",
    "    model.fit(X_train, y_train)\n",
    "    return model\n",
    "\n",
    "def save_model(model, model_path, metrics, metrics_path):\n",
    "    joblib.dump(model, model_path)\n",
    "    with open(metrics_path, 'w') as f:\n",
    "        json.dump(metrics, f)\n"
   ]
  },
  {
   "cell_type": "code",
   "execution_count": null,
   "id": "830276d5",
   "metadata": {},
   "outputs": [],
   "source": [
    "# Setup cell: always run first after restart\n",
    "import pandas as pd\n",
    "from src.data_preprocessing import load_data, clean_data\n",
    "from src.model_training import prepare_features, split_data, train_model, save_model\n",
    "\n",
    "df = load_data('data/historical_emissions.csv')\n",
    "df_clean = clean_data(df)\n",
    "X, y = prepare_features(df_clean)\n",
    "X_train, X_test, y_train, y_test = split_data(X, y)\n"
   ]
  },
  {
   "cell_type": "code",
   "execution_count": null,
   "id": "64b13ba0",
   "metadata": {},
   "outputs": [],
   "source": [
    "import sys\n",
    "from pathlib import Path\n",
    "\n",
    "# Add project root (i.e., ~/AI_Vault/World-climate) to system path\n",
    "project_root = Path().resolve()\n",
    "if str(project_root) not in sys.path:\n",
    "    sys.path.append(str(project_root))\n",
    "\n",
    "# Now import from src\n",
    "from src.data_preprocessing import load_data, clean_data\n",
    "from src.model_training import prepare_features, split_data, train_model, save_model\n"
   ]
  },
  {
   "cell_type": "code",
   "execution_count": null,
   "id": "f1d1c8bc",
   "metadata": {},
   "outputs": [],
   "source": [
    "import sys\n",
    "from pathlib import Path\n",
    "\n",
    "# Ensure root is in path so Python can find src/\n",
    "project_root = Path().resolve()\n",
    "if str(project_root) not in sys.path:\n",
    "    sys.path.append(str(project_root))\n",
    "\n",
    "# Now import your project modules\n",
    "from src.data_preprocessing import load_data, clean_data\n",
    "from src.model_training import prepare_features, split_data, train_model, save_model\n"
   ]
  },
  {
   "cell_type": "code",
   "execution_count": null,
   "id": "9d461e14",
   "metadata": {},
   "outputs": [],
   "source": [
    "import sys\n",
    "from pathlib import Path\n",
    "\n",
    "# Ensure root is in path so Python can find src/\n",
    "project_root = Path().resolve()\n",
    "if str(project_root) not in sys.path:\n",
    "    sys.path.append(str(project_root))\n",
    "\n",
    "# Now import your project modules\n",
    "from src.data_preprocessing import load_data, clean_data\n",
    "from src.model_training import prepare_features, split_data, train_model, save_model"
   ]
  },
  {
   "cell_type": "code",
   "execution_count": null,
   "id": "563dfd81",
   "metadata": {},
   "outputs": [],
   "source": [
    "import sys\n",
    "from pathlib import Path\n",
    "\n",
    "# Ensure root is in path so Python can find src/\n",
    "project_root = Path().resolve()\n",
    "if str(project_root) not in sys.path:\n",
    "    sys.path.append(str(project_root))\n",
    "\n",
    "# Now import your project modules\n",
    "from src.data_preprocessing import load_data, clean_data\n",
    "from src.model_training import prepare_features, split_data, train_model, save_model"
   ]
  },
  {
   "cell_type": "code",
   "execution_count": null,
   "id": "045c37c9",
   "metadata": {},
   "outputs": [],
   "source": [
    "from src.data_preprocessing import load_data, clean_data\n"
   ]
  },
  {
   "cell_type": "code",
   "execution_count": null,
   "id": "a7751659",
   "metadata": {},
   "outputs": [],
   "source": [
    "import sys\n",
    "from pathlib import Path\n",
    "\n",
    "# Add project root to Python path (adjust if needed)\n",
    "project_root = Path(__file__).resolve().parent.parent if \"__file__\" in globals() else Path().resolve()\n",
    "if str(project_root) not in sys.path:\n",
    "    sys.path.append(str(project_root))\n",
    "\n",
    "# Now import your modules\n",
    "from src.data_preprocessing import load_data, clean_data\n",
    "from src.model_training import prepare_features, split_data, train_model, save_model\n"
   ]
  },
  {
   "cell_type": "code",
   "execution_count": 1,
   "id": "d170d41a",
   "metadata": {},
   "outputs": [],
   "source": [
    "import sys\n",
    "from pathlib import Path\n",
    "\n",
    "# Add project root to Python path so that `src` can be imported\n",
    "project_root = Path().resolve()\n",
    "if str(project_root) not in sys.path:\n",
    "    sys.path.append(str(project_root))\n"
   ]
  },
  {
   "cell_type": "code",
   "execution_count": 2,
   "id": "669b4592",
   "metadata": {},
   "outputs": [
    {
     "ename": "ModuleNotFoundError",
     "evalue": "No module named 'src'",
     "output_type": "error",
     "traceback": [
      "\u001b[31m---------------------------------------------------------------------------\u001b[39m",
      "\u001b[31mModuleNotFoundError\u001b[39m                       Traceback (most recent call last)",
      "\u001b[36mCell\u001b[39m\u001b[36m \u001b[39m\u001b[32mIn[2]\u001b[39m\u001b[32m, line 1\u001b[39m\n\u001b[32m----> \u001b[39m\u001b[32m1\u001b[39m \u001b[38;5;28;01mfrom\u001b[39;00m\u001b[38;5;250m \u001b[39m\u001b[34;01msrc\u001b[39;00m\u001b[34;01m.\u001b[39;00m\u001b[34;01mdata_preprocessing\u001b[39;00m\u001b[38;5;250m \u001b[39m\u001b[38;5;28;01mimport\u001b[39;00m load_data, clean_data\n\u001b[32m      2\u001b[39m \u001b[38;5;28;01mfrom\u001b[39;00m\u001b[38;5;250m \u001b[39m\u001b[34;01msrc\u001b[39;00m\u001b[34;01m.\u001b[39;00m\u001b[34;01mmodel_training\u001b[39;00m\u001b[38;5;250m \u001b[39m\u001b[38;5;28;01mimport\u001b[39;00m prepare_features, split_data, train_model, save_model\n",
      "\u001b[31mModuleNotFoundError\u001b[39m: No module named 'src'"
     ]
    }
   ],
   "source": [
    "from src.data_preprocessing import load_data, clean_data\n",
    "from src.model_training import prepare_features, split_data, train_model, save_model\n"
   ]
  },
  {
   "cell_type": "code",
   "execution_count": 3,
   "id": "52baea8a",
   "metadata": {},
   "outputs": [],
   "source": [
    "import sys\n",
    "from pathlib import Path\n",
    "\n",
    "# Add the project root directory to the Python path\n",
    "project_root = Path().resolve()\n",
    "if str(project_root) not in sys.path:\n",
    "    sys.path.append(str(project_root))\n",
    "\n"
   ]
  },
  {
   "cell_type": "code",
   "execution_count": 4,
   "id": "2ede3452",
   "metadata": {},
   "outputs": [
    {
     "ename": "ModuleNotFoundError",
     "evalue": "No module named 'src'",
     "output_type": "error",
     "traceback": [
      "\u001b[31m---------------------------------------------------------------------------\u001b[39m",
      "\u001b[31mModuleNotFoundError\u001b[39m                       Traceback (most recent call last)",
      "\u001b[36mCell\u001b[39m\u001b[36m \u001b[39m\u001b[32mIn[4]\u001b[39m\u001b[32m, line 1\u001b[39m\n\u001b[32m----> \u001b[39m\u001b[32m1\u001b[39m \u001b[38;5;28;01mfrom\u001b[39;00m\u001b[38;5;250m \u001b[39m\u001b[34;01msrc\u001b[39;00m\u001b[34;01m.\u001b[39;00m\u001b[34;01mdata_preprocessing\u001b[39;00m\u001b[38;5;250m \u001b[39m\u001b[38;5;28;01mimport\u001b[39;00m load_data, clean_data\n\u001b[32m      2\u001b[39m \u001b[38;5;28;01mfrom\u001b[39;00m\u001b[38;5;250m \u001b[39m\u001b[34;01msrc\u001b[39;00m\u001b[34;01m.\u001b[39;00m\u001b[34;01mmodel_training\u001b[39;00m\u001b[38;5;250m \u001b[39m\u001b[38;5;28;01mimport\u001b[39;00m prepare_features, split_data, train_model, save_model\n",
      "\u001b[31mModuleNotFoundError\u001b[39m: No module named 'src'"
     ]
    }
   ],
   "source": [
    "from src.data_preprocessing import load_data, clean_data\n",
    "from src.model_training import prepare_features, split_data, train_model, save_model\n"
   ]
  },
  {
   "cell_type": "code",
   "execution_count": 5,
   "id": "295aeb42",
   "metadata": {},
   "outputs": [
    {
     "name": "stdout",
     "output_type": "stream",
     "text": [
      "/home/crystal/AI_Vault/World-climate/Data\n"
     ]
    }
   ],
   "source": [
    "import os\n",
    "print(os.getcwd())\n",
    "\n"
   ]
  },
  {
   "cell_type": "code",
   "execution_count": 6,
   "id": "9263e409",
   "metadata": {},
   "outputs": [
    {
     "name": "stdout",
     "output_type": "stream",
     "text": [
      "✅ Now in: /home/crystal/AI_Vault/World-climate\n"
     ]
    }
   ],
   "source": [
    "import os\n",
    "os.chdir(\"..\") \n",
    "print(\"✅ Now in:\", os.getcwd())\n"
   ]
  },
  {
   "cell_type": "code",
   "execution_count": 7,
   "id": "d2b3a452",
   "metadata": {},
   "outputs": [],
   "source": [
    "import sys\n",
    "from pathlib import Path\n",
    "\n",
    "project_root = Path().resolve()\n",
    "if str(project_root) not in sys.path:\n",
    "    sys.path.append(str(project_root))\n"
   ]
  },
  {
   "cell_type": "code",
   "execution_count": 8,
   "id": "201e073b",
   "metadata": {},
   "outputs": [
    {
     "ename": "ImportError",
     "evalue": "cannot import name 'load_data' from 'src.data_preprocessing' (/home/crystal/AI_Vault/World-climate/src/data_preprocessing.py)",
     "output_type": "error",
     "traceback": [
      "\u001b[31m---------------------------------------------------------------------------\u001b[39m",
      "\u001b[31mImportError\u001b[39m                               Traceback (most recent call last)",
      "\u001b[36mCell\u001b[39m\u001b[36m \u001b[39m\u001b[32mIn[8]\u001b[39m\u001b[32m, line 1\u001b[39m\n\u001b[32m----> \u001b[39m\u001b[32m1\u001b[39m \u001b[38;5;28;01mfrom\u001b[39;00m\u001b[38;5;250m \u001b[39m\u001b[34;01msrc\u001b[39;00m\u001b[34;01m.\u001b[39;00m\u001b[34;01mdata_preprocessing\u001b[39;00m\u001b[38;5;250m \u001b[39m\u001b[38;5;28;01mimport\u001b[39;00m load_data, clean_data\n\u001b[32m      2\u001b[39m \u001b[38;5;28;01mfrom\u001b[39;00m\u001b[38;5;250m \u001b[39m\u001b[34;01msrc\u001b[39;00m\u001b[34;01m.\u001b[39;00m\u001b[34;01mmodel_training\u001b[39;00m\u001b[38;5;250m \u001b[39m\u001b[38;5;28;01mimport\u001b[39;00m prepare_features, split_data, train_model, save_model\n",
      "\u001b[31mImportError\u001b[39m: cannot import name 'load_data' from 'src.data_preprocessing' (/home/crystal/AI_Vault/World-climate/src/data_preprocessing.py)"
     ]
    }
   ],
   "source": [
    "from src.data_preprocessing import load_data, clean_data\n",
    "from src.model_training import prepare_features, split_data, train_model, save_model\n"
   ]
  },
  {
   "cell_type": "code",
   "execution_count": 9,
   "id": "a6d04644",
   "metadata": {
    "scrolled": true
   },
   "outputs": [
    {
     "ename": "ImportError",
     "evalue": "cannot import name 'load_data' from 'src.data_preprocessing' (/home/crystal/AI_Vault/World-climate/src/data_preprocessing.py)",
     "output_type": "error",
     "traceback": [
      "\u001b[31m---------------------------------------------------------------------------\u001b[39m",
      "\u001b[31mImportError\u001b[39m                               Traceback (most recent call last)",
      "\u001b[36mCell\u001b[39m\u001b[36m \u001b[39m\u001b[32mIn[9]\u001b[39m\u001b[32m, line 1\u001b[39m\n\u001b[32m----> \u001b[39m\u001b[32m1\u001b[39m \u001b[38;5;28;01mfrom\u001b[39;00m\u001b[38;5;250m \u001b[39m\u001b[34;01msrc\u001b[39;00m\u001b[34;01m.\u001b[39;00m\u001b[34;01mdata_preprocessing\u001b[39;00m\u001b[38;5;250m \u001b[39m\u001b[38;5;28;01mimport\u001b[39;00m load_data, clean_data\n",
      "\u001b[31mImportError\u001b[39m: cannot import name 'load_data' from 'src.data_preprocessing' (/home/crystal/AI_Vault/World-climate/src/data_preprocessing.py)"
     ]
    }
   ],
   "source": [
    "from src.data_preprocessing import load_data, clean_data\n"
   ]
  },
  {
   "cell_type": "code",
   "execution_count": 1,
   "id": "23fd6183",
   "metadata": {},
   "outputs": [
    {
     "ename": "ModuleNotFoundError",
     "evalue": "No module named 'src'",
     "output_type": "error",
     "traceback": [
      "\u001b[31m---------------------------------------------------------------------------\u001b[39m",
      "\u001b[31mModuleNotFoundError\u001b[39m                       Traceback (most recent call last)",
      "\u001b[36mCell\u001b[39m\u001b[36m \u001b[39m\u001b[32mIn[1]\u001b[39m\u001b[32m, line 9\u001b[39m\n\u001b[32m      6\u001b[39m \u001b[38;5;28;01mif\u001b[39;00m \u001b[38;5;28mstr\u001b[39m(project_root) \u001b[38;5;129;01mnot\u001b[39;00m \u001b[38;5;129;01min\u001b[39;00m sys.path:\n\u001b[32m      7\u001b[39m     sys.path.append(\u001b[38;5;28mstr\u001b[39m(project_root))\n\u001b[32m----> \u001b[39m\u001b[32m9\u001b[39m \u001b[38;5;28;01mfrom\u001b[39;00m\u001b[38;5;250m \u001b[39m\u001b[34;01msrc\u001b[39;00m\u001b[34;01m.\u001b[39;00m\u001b[34;01mdata_preprocessing\u001b[39;00m\u001b[38;5;250m \u001b[39m\u001b[38;5;28;01mimport\u001b[39;00m load_data, clean_data\n",
      "\u001b[31mModuleNotFoundError\u001b[39m: No module named 'src'"
     ]
    }
   ],
   "source": [
    "import sys\n",
    "from pathlib import Path\n",
    "\n",
    "# Ensure src/ is in Python path\n",
    "project_root = Path().resolve()\n",
    "if str(project_root) not in sys.path:\n",
    "    sys.path.append(str(project_root))\n",
    "\n",
    "from src.data_preprocessing import load_data, clean_data\n"
   ]
  },
  {
   "cell_type": "code",
   "execution_count": 2,
   "id": "dbd31a7d",
   "metadata": {},
   "outputs": [
    {
     "name": "stdout",
     "output_type": "stream",
     "text": [
      "/home/crystal/AI_Vault/World-climate/Data\n"
     ]
    }
   ],
   "source": [
    "import os\n",
    "print(os.getcwd())"
   ]
  },
  {
   "cell_type": "code",
   "execution_count": 3,
   "id": "cb0cda5c",
   "metadata": {},
   "outputs": [
    {
     "name": "stdout",
     "output_type": "stream",
     "text": [
      "✅ Now in: /home/crystal/AI_Vault/World-climate\n"
     ]
    }
   ],
   "source": [
    "import os\n",
    "os.chdir(\"..\") \n",
    "print(\"✅ Now in:\", os.getcwd())"
   ]
  },
  {
   "cell_type": "code",
   "execution_count": 4,
   "id": "cfc109fb",
   "metadata": {},
   "outputs": [],
   "source": [
    "import sys\n",
    "from pathlib import Path\n",
    "\n",
    "# Ensure src/ is in Python path\n",
    "project_root = Path().resolve()\n",
    "if str(project_root) not in sys.path:\n",
    "    sys.path.append(str(project_root))\n",
    "\n",
    "from src.data_preprocessing import load_data, clean_data\n"
   ]
  },
  {
   "cell_type": "code",
   "execution_count": 5,
   "id": "f285ac32",
   "metadata": {},
   "outputs": [
    {
     "data": {
      "text/html": [
       "<div>\n",
       "<style scoped>\n",
       "    .dataframe tbody tr th:only-of-type {\n",
       "        vertical-align: middle;\n",
       "    }\n",
       "\n",
       "    .dataframe tbody tr th {\n",
       "        vertical-align: top;\n",
       "    }\n",
       "\n",
       "    .dataframe thead th {\n",
       "        text-align: right;\n",
       "    }\n",
       "</style>\n",
       "<table border=\"1\" class=\"dataframe\">\n",
       "  <thead>\n",
       "    <tr style=\"text-align: right;\">\n",
       "      <th></th>\n",
       "      <th>Country</th>\n",
       "      <th>Data source</th>\n",
       "      <th>Sector</th>\n",
       "      <th>Gas</th>\n",
       "      <th>Unit</th>\n",
       "      <th>Year</th>\n",
       "      <th>Emissions</th>\n",
       "    </tr>\n",
       "  </thead>\n",
       "  <tbody>\n",
       "    <tr>\n",
       "      <th>0</th>\n",
       "      <td>World</td>\n",
       "      <td>CAIT</td>\n",
       "      <td>Total including LUCF</td>\n",
       "      <td>CO2</td>\n",
       "      <td>MtCO₂e</td>\n",
       "      <td>2018</td>\n",
       "      <td>36441.55</td>\n",
       "    </tr>\n",
       "    <tr>\n",
       "      <th>1</th>\n",
       "      <td>China</td>\n",
       "      <td>CAIT</td>\n",
       "      <td>Total including LUCF</td>\n",
       "      <td>CO2</td>\n",
       "      <td>MtCO₂e</td>\n",
       "      <td>2018</td>\n",
       "      <td>9663.36</td>\n",
       "    </tr>\n",
       "    <tr>\n",
       "      <th>2</th>\n",
       "      <td>United States</td>\n",
       "      <td>CAIT</td>\n",
       "      <td>Total including LUCF</td>\n",
       "      <td>CO2</td>\n",
       "      <td>MtCO₂e</td>\n",
       "      <td>2018</td>\n",
       "      <td>4749.57</td>\n",
       "    </tr>\n",
       "    <tr>\n",
       "      <th>3</th>\n",
       "      <td>European Union (27)</td>\n",
       "      <td>CAIT</td>\n",
       "      <td>Total including LUCF</td>\n",
       "      <td>CO2</td>\n",
       "      <td>MtCO₂e</td>\n",
       "      <td>2018</td>\n",
       "      <td>2636.99</td>\n",
       "    </tr>\n",
       "    <tr>\n",
       "      <th>4</th>\n",
       "      <td>India</td>\n",
       "      <td>CAIT</td>\n",
       "      <td>Total including LUCF</td>\n",
       "      <td>CO2</td>\n",
       "      <td>MtCO₂e</td>\n",
       "      <td>2018</td>\n",
       "      <td>2400.25</td>\n",
       "    </tr>\n",
       "  </tbody>\n",
       "</table>\n",
       "</div>"
      ],
      "text/plain": [
       "               Country Data source                Sector  Gas    Unit  Year  \\\n",
       "0                World        CAIT  Total including LUCF  CO2  MtCO₂e  2018   \n",
       "1                China        CAIT  Total including LUCF  CO2  MtCO₂e  2018   \n",
       "2        United States        CAIT  Total including LUCF  CO2  MtCO₂e  2018   \n",
       "3  European Union (27)        CAIT  Total including LUCF  CO2  MtCO₂e  2018   \n",
       "4                India        CAIT  Total including LUCF  CO2  MtCO₂e  2018   \n",
       "\n",
       "   Emissions  \n",
       "0   36441.55  \n",
       "1    9663.36  \n",
       "2    4749.57  \n",
       "3    2636.99  \n",
       "4    2400.25  "
      ]
     },
     "execution_count": 5,
     "metadata": {},
     "output_type": "execute_result"
    }
   ],
   "source": [
    "df = load_data('historical_emissions.csv')  # or 'data/historical_emissions.csv' depending on where the file is\n",
    "df_clean = clean_data(df)\n",
    "df_clean.head()\n"
   ]
  },
  {
   "cell_type": "code",
   "execution_count": 6,
   "id": "e2ac26ff",
   "metadata": {},
   "outputs": [
    {
     "ename": "ImportError",
     "evalue": "cannot import name 'prepare_features' from 'src.model_training' (/home/crystal/AI_Vault/World-climate/src/model_training.py)",
     "output_type": "error",
     "traceback": [
      "\u001b[31m---------------------------------------------------------------------------\u001b[39m",
      "\u001b[31mImportError\u001b[39m                               Traceback (most recent call last)",
      "\u001b[36mCell\u001b[39m\u001b[36m \u001b[39m\u001b[32mIn[6]\u001b[39m\u001b[32m, line 1\u001b[39m\n\u001b[32m----> \u001b[39m\u001b[32m1\u001b[39m \u001b[38;5;28;01mfrom\u001b[39;00m\u001b[38;5;250m \u001b[39m\u001b[34;01msrc\u001b[39;00m\u001b[34;01m.\u001b[39;00m\u001b[34;01mmodel_training\u001b[39;00m\u001b[38;5;250m \u001b[39m\u001b[38;5;28;01mimport\u001b[39;00m prepare_features, split_data\n\u001b[32m      3\u001b[39m \u001b[38;5;66;03m# Assume you already have df_clean from the cleaning step\u001b[39;00m\n\u001b[32m      4\u001b[39m X, y = prepare_features(df_clean)\n",
      "\u001b[31mImportError\u001b[39m: cannot import name 'prepare_features' from 'src.model_training' (/home/crystal/AI_Vault/World-climate/src/model_training.py)"
     ]
    }
   ],
   "source": [
    "from src.model_training import prepare_features, split_data\n",
    "\n",
    "# Assume you already have df_clean from the cleaning step\n",
    "X, y = prepare_features(df_clean)\n",
    "X_train, X_test, y_train, y_test = split_data(X, y)\n",
    "\n",
    "# Optional: Check shapes to confirm the split\n",
    "print(\"Train shape:\", X_train.shape, y_train.shape)\n",
    "print(\"Test shape:\", X_test.shape, y_test.shape)\n"
   ]
  },
  {
   "cell_type": "code",
   "execution_count": 7,
   "id": "221f8f4d",
   "metadata": {},
   "outputs": [
    {
     "ename": "ImportError",
     "evalue": "cannot import name 'prepare_features' from 'src.model_training' (/home/crystal/AI_Vault/World-climate/src/model_training.py)",
     "output_type": "error",
     "traceback": [
      "\u001b[31m---------------------------------------------------------------------------\u001b[39m",
      "\u001b[31mImportError\u001b[39m                               Traceback (most recent call last)",
      "\u001b[36mCell\u001b[39m\u001b[36m \u001b[39m\u001b[32mIn[7]\u001b[39m\u001b[32m, line 1\u001b[39m\n\u001b[32m----> \u001b[39m\u001b[32m1\u001b[39m \u001b[38;5;28;01mfrom\u001b[39;00m\u001b[38;5;250m \u001b[39m\u001b[34;01msrc\u001b[39;00m\u001b[34;01m.\u001b[39;00m\u001b[34;01mmodel_training\u001b[39;00m\u001b[38;5;250m \u001b[39m\u001b[38;5;28;01mimport\u001b[39;00m prepare_features, split_data\n\u001b[32m      3\u001b[39m \u001b[38;5;66;03m# Prepare features and target\u001b[39;00m\n\u001b[32m      4\u001b[39m X, y = prepare_features(df_clean)\n",
      "\u001b[31mImportError\u001b[39m: cannot import name 'prepare_features' from 'src.model_training' (/home/crystal/AI_Vault/World-climate/src/model_training.py)"
     ]
    }
   ],
   "source": [
    "from src.model_training import prepare_features, split_data\n",
    "\n",
    "# Prepare features and target\n",
    "X, y = prepare_features(df_clean)\n",
    "\n",
    "# Split into training and testing sets\n",
    "X_train, X_test, y_train, y_test = split_data(X, y)\n",
    "\n",
    "# Optional: Print shapes to confirm\n",
    "print(f\"X_train shape: {X_train.shape}\")\n",
    "print(f\"X_test shape: {X_test.shape}\")\n",
    "print(f\"y_train shape: {y_train.shape}\")\n",
    "print(f\"y_test shape: {y_test.shape}\")\n"
   ]
  },
  {
   "cell_type": "code",
   "execution_count": 1,
   "id": "6d59bf00",
   "metadata": {},
   "outputs": [
    {
     "name": "stdout",
     "output_type": "stream",
     "text": [
      "/home/crystal/AI_Vault/World-climate/Data\n"
     ]
    }
   ],
   "source": [
    "import os\n",
    "print(os.getcwd())"
   ]
  },
  {
   "cell_type": "code",
   "execution_count": 2,
   "id": "5dfadadc",
   "metadata": {},
   "outputs": [
    {
     "name": "stdout",
     "output_type": "stream",
     "text": [
      "✅ Now in: /home/crystal/AI_Vault/World-climate\n"
     ]
    }
   ],
   "source": [
    "import os\n",
    "os.chdir(\"..\") \n",
    "print(\"✅ Now in:\", os.getcwd())"
   ]
  },
  {
   "cell_type": "code",
   "execution_count": 3,
   "id": "62583240",
   "metadata": {},
   "outputs": [],
   "source": [
    "import sys\n",
    "from pathlib import Path\n",
    "\n",
    "# Ensure src/ is in Python path\n",
    "project_root = Path().resolve()\n",
    "if str(project_root) not in sys.path:\n",
    "    sys.path.append(str(project_root))\n",
    "\n",
    "from src.data_preprocessing import load_data, clean_data"
   ]
  },
  {
   "cell_type": "code",
   "execution_count": 4,
   "id": "a24b643f",
   "metadata": {},
   "outputs": [],
   "source": [
    "import sys\n",
    "from pathlib import Path\n",
    "\n",
    "project_root = Path().resolve()\n",
    "if str(project_root) not in sys.path:\n",
    "    sys.path.append(str(project_root))\n",
    "\n",
    "from src.data_preprocessing import load_data, clean_data\n",
    "from src.model_training import prepare_features, split_data\n"
   ]
  },
  {
   "cell_type": "code",
   "execution_count": 5,
   "id": "ceb51745",
   "metadata": {},
   "outputs": [],
   "source": [
    "df = load_data('historical_emissions.csv')\n",
    "df_clean = clean_data(df)\n",
    "\n",
    "X, y = prepare_features(df_clean)\n",
    "X_train, X_test, y_train, y_test = split_data(X, y)\n"
   ]
  },
  {
   "cell_type": "code",
   "execution_count": 6,
   "id": "bb4a0c12",
   "metadata": {},
   "outputs": [
    {
     "ename": "ImportError",
     "evalue": "cannot import name 'train_model' from 'src.model_training' (/home/crystal/AI_Vault/World-climate/src/model_training.py)",
     "output_type": "error",
     "traceback": [
      "\u001b[31m---------------------------------------------------------------------------\u001b[39m",
      "\u001b[31mImportError\u001b[39m                               Traceback (most recent call last)",
      "\u001b[36mCell\u001b[39m\u001b[36m \u001b[39m\u001b[32mIn[6]\u001b[39m\u001b[32m, line 1\u001b[39m\n\u001b[32m----> \u001b[39m\u001b[32m1\u001b[39m \u001b[38;5;28;01mfrom\u001b[39;00m\u001b[38;5;250m \u001b[39m\u001b[34;01msrc\u001b[39;00m\u001b[34;01m.\u001b[39;00m\u001b[34;01mmodel_training\u001b[39;00m\u001b[38;5;250m \u001b[39m\u001b[38;5;28;01mimport\u001b[39;00m train_model\n\u001b[32m      3\u001b[39m model = train_model(X_train, y_train)\n\u001b[32m      4\u001b[39m \u001b[38;5;28mprint\u001b[39m(\u001b[33m\"\u001b[39m\u001b[33m✅ Model training complete.\u001b[39m\u001b[33m\"\u001b[39m)\n",
      "\u001b[31mImportError\u001b[39m: cannot import name 'train_model' from 'src.model_training' (/home/crystal/AI_Vault/World-climate/src/model_training.py)"
     ]
    }
   ],
   "source": [
    "from src.model_training import train_model\n",
    "\n",
    "model = train_model(X_train, y_train)\n",
    "print(\"✅ Model training complete.\")\n"
   ]
  },
  {
   "cell_type": "code",
   "execution_count": 1,
   "id": "e627d2c2",
   "metadata": {},
   "outputs": [
    {
     "name": "stdout",
     "output_type": "stream",
     "text": [
      "/home/crystal/AI_Vault/World-climate/Data\n"
     ]
    }
   ],
   "source": [
    "import os\n",
    "print(os.getcwd())"
   ]
  },
  {
   "cell_type": "code",
   "execution_count": 13,
   "id": "4afc5120",
   "metadata": {},
   "outputs": [
    {
     "name": "stdout",
     "output_type": "stream",
     "text": [
      "Now in: /home/crystal/AI_Vault\n"
     ]
    }
   ],
   "source": [
    "import os\n",
    "os.chdir(\"..\") \n",
    "print(\"Now in:\", os.getcwd())"
   ]
  },
  {
   "cell_type": "code",
   "execution_count": 3,
   "id": "5391c233",
   "metadata": {},
   "outputs": [],
   "source": [
    "import sys\n",
    "from pathlib import Path\n",
    "\n",
    "project_root = Path().resolve()\n",
    "if str(project_root) not in sys.path:\n",
    "    sys.path.append(str(project_root))\n",
    "\n",
    "from src.data_preprocessing import load_data, clean_data\n",
    "from src.model_training import prepare_features, split_data\n"
   ]
  },
  {
   "cell_type": "code",
   "execution_count": 4,
   "id": "848c160a",
   "metadata": {},
   "outputs": [
    {
     "data": {
      "text/html": [
       "<div>\n",
       "<style scoped>\n",
       "    .dataframe tbody tr th:only-of-type {\n",
       "        vertical-align: middle;\n",
       "    }\n",
       "\n",
       "    .dataframe tbody tr th {\n",
       "        vertical-align: top;\n",
       "    }\n",
       "\n",
       "    .dataframe thead th {\n",
       "        text-align: right;\n",
       "    }\n",
       "</style>\n",
       "<table border=\"1\" class=\"dataframe\">\n",
       "  <thead>\n",
       "    <tr style=\"text-align: right;\">\n",
       "      <th></th>\n",
       "      <th>Country</th>\n",
       "      <th>Data source</th>\n",
       "      <th>Sector</th>\n",
       "      <th>Gas</th>\n",
       "      <th>Unit</th>\n",
       "      <th>Year</th>\n",
       "      <th>Emissions</th>\n",
       "    </tr>\n",
       "  </thead>\n",
       "  <tbody>\n",
       "    <tr>\n",
       "      <th>0</th>\n",
       "      <td>World</td>\n",
       "      <td>CAIT</td>\n",
       "      <td>Total including LUCF</td>\n",
       "      <td>CO2</td>\n",
       "      <td>MtCO₂e</td>\n",
       "      <td>2018</td>\n",
       "      <td>36441.55</td>\n",
       "    </tr>\n",
       "    <tr>\n",
       "      <th>1</th>\n",
       "      <td>China</td>\n",
       "      <td>CAIT</td>\n",
       "      <td>Total including LUCF</td>\n",
       "      <td>CO2</td>\n",
       "      <td>MtCO₂e</td>\n",
       "      <td>2018</td>\n",
       "      <td>9663.36</td>\n",
       "    </tr>\n",
       "    <tr>\n",
       "      <th>2</th>\n",
       "      <td>United States</td>\n",
       "      <td>CAIT</td>\n",
       "      <td>Total including LUCF</td>\n",
       "      <td>CO2</td>\n",
       "      <td>MtCO₂e</td>\n",
       "      <td>2018</td>\n",
       "      <td>4749.57</td>\n",
       "    </tr>\n",
       "    <tr>\n",
       "      <th>3</th>\n",
       "      <td>European Union (27)</td>\n",
       "      <td>CAIT</td>\n",
       "      <td>Total including LUCF</td>\n",
       "      <td>CO2</td>\n",
       "      <td>MtCO₂e</td>\n",
       "      <td>2018</td>\n",
       "      <td>2636.99</td>\n",
       "    </tr>\n",
       "    <tr>\n",
       "      <th>4</th>\n",
       "      <td>India</td>\n",
       "      <td>CAIT</td>\n",
       "      <td>Total including LUCF</td>\n",
       "      <td>CO2</td>\n",
       "      <td>MtCO₂e</td>\n",
       "      <td>2018</td>\n",
       "      <td>2400.25</td>\n",
       "    </tr>\n",
       "  </tbody>\n",
       "</table>\n",
       "</div>"
      ],
      "text/plain": [
       "               Country Data source                Sector  Gas    Unit  Year  \\\n",
       "0                World        CAIT  Total including LUCF  CO2  MtCO₂e  2018   \n",
       "1                China        CAIT  Total including LUCF  CO2  MtCO₂e  2018   \n",
       "2        United States        CAIT  Total including LUCF  CO2  MtCO₂e  2018   \n",
       "3  European Union (27)        CAIT  Total including LUCF  CO2  MtCO₂e  2018   \n",
       "4                India        CAIT  Total including LUCF  CO2  MtCO₂e  2018   \n",
       "\n",
       "   Emissions  \n",
       "0   36441.55  \n",
       "1    9663.36  \n",
       "2    4749.57  \n",
       "3    2636.99  \n",
       "4    2400.25  "
      ]
     },
     "execution_count": 4,
     "metadata": {},
     "output_type": "execute_result"
    }
   ],
   "source": [
    "df = load_data('historical_emissions.csv')  # or 'data/historical_emissions.csv' depending on where the file is\n",
    "df_clean = clean_data(df)\n",
    "df_clean.head()\n"
   ]
  },
  {
   "cell_type": "code",
   "execution_count": 5,
   "id": "c47e8dad",
   "metadata": {},
   "outputs": [],
   "source": [
    "df = load_data('historical_emissions.csv')\n",
    "df_clean = clean_data(df)\n",
    "\n",
    "X, y = prepare_features(df_clean)\n",
    "X_train, X_test, y_train, y_test = split_data(X, y)\n"
   ]
  },
  {
   "cell_type": "code",
   "execution_count": 12,
   "id": "a8527cf9",
   "metadata": {},
   "outputs": [
    {
     "name": "stdout",
     "output_type": "stream",
     "text": [
      "Model training complete.\n"
     ]
    }
   ],
   "source": [
    "from src.model_training import train_model\n",
    "\n",
    "model = train_model(X_train, y_train)\n",
    "print(\"Model training complete.\")\n"
   ]
  },
  {
   "cell_type": "code",
   "execution_count": 10,
   "id": "2e6ee719",
   "metadata": {},
   "outputs": [
    {
     "name": "stdout",
     "output_type": "stream",
     "text": [
      "Model evaluation complete.\n",
      "Mean Squared Error (MSE): 126690.08\n",
      "R² Score: 0.97\n"
     ]
    }
   ],
   "source": [
    "from sklearn.metrics import mean_squared_error, r2_score\n",
    "\n",
    "# Predict on the test set\n",
    "y_pred = model.predict(X_test)\n",
    "\n",
    "# Evaluate performance\n",
    "mse = mean_squared_error(y_test, y_pred)\n",
    "r2 = r2_score(y_test, y_pred)\n",
    "\n",
    "print(f\"Model evaluation complete.\")\n",
    "print(f\"Mean Squared Error (MSE): {mse:.2f}\")\n",
    "print(f\"R² Score: {r2:.2f}\")\n"
   ]
  },
  {
   "cell_type": "code",
   "execution_count": 11,
   "id": "f4beac41",
   "metadata": {},
   "outputs": [
    {
     "name": "stdout",
     "output_type": "stream",
     "text": [
      "Model saved to 'Data/co2_emission_model.joblib'\n"
     ]
    }
   ],
   "source": [
    "import joblib\n",
    "\n",
    "# Save model to a file\n",
    "joblib.dump(model, 'Data/co2_emission_model.joblib')\n",
    "print(\"Model saved to 'Data/co2_emission_model.joblib'\")\n"
   ]
  },
  {
   "cell_type": "code",
   "execution_count": 14,
   "id": "892455ee",
   "metadata": {},
   "outputs": [
    {
     "data": {
      "image/png": "[encoded data removed]",
      "text/plain": [
       "<Figure size 640x480 with 1 Axes>"
      ]
     },
     "metadata": {},
     "output_type": "display_data"
    }
   ],
   "source": [
    "import matplotlib.pyplot as plt\n",
    "\n",
    "plt.scatter(y_test, y_pred, alpha=0.5)\n",
    "plt.xlabel('Actual Emissions')\n",
    "plt.ylabel('Predicted Emissions')\n",
    "plt.title('Actual vs Predicted Emissions')\n",
    "plt.grid(True)\n",
    "plt.show()\n"
   ]
  },
  {
   "cell_type": "code",
   "execution_count": 15,
   "id": "4c1df95e",
   "metadata": {},
   "outputs": [
    {
     "ename": "ImportError",
     "evalue": "cannot import name 'save_model' from 'src.model_training' (/home/crystal/AI_Vault/World-climate/src/model_training.py)",
     "output_type": "error",
     "traceback": [
      "\u001b[31m---------------------------------------------------------------------------\u001b[39m",
      "\u001b[31mImportError\u001b[39m                               Traceback (most recent call last)",
      "\u001b[36mCell\u001b[39m\u001b[36m \u001b[39m\u001b[32mIn[15]\u001b[39m\u001b[32m, line 1\u001b[39m\n\u001b[32m----> \u001b[39m\u001b[32m1\u001b[39m \u001b[38;5;28;01mfrom\u001b[39;00m\u001b[38;5;250m \u001b[39m\u001b[34;01msrc\u001b[39;00m\u001b[34;01m.\u001b[39;00m\u001b[34;01mmodel_training\u001b[39;00m\u001b[38;5;250m \u001b[39m\u001b[38;5;28;01mimport\u001b[39;00m save_model, evaluate_model\n\u001b[32m      3\u001b[39m \u001b[38;5;66;03m# Save the model\u001b[39;00m\n\u001b[32m      4\u001b[39m save_model(model, \u001b[33m\"\u001b[39m\u001b[33mmodels/linear_regression_model.pkl\u001b[39m\u001b[33m\"\u001b[39m)\n",
      "\u001b[31mImportError\u001b[39m: cannot import name 'save_model' from 'src.model_training' (/home/crystal/AI_Vault/World-climate/src/model_training.py)"
     ]
    }
   ],
   "source": [
    "from src.model_training import save_model, evaluate_model\n",
    "\n",
    "# Save the model\n",
    "save_model(model, \"models/linear_regression_model.pkl\")\n",
    "\n",
    "# Evaluate the model and save performance metrics\n",
    "metrics = evaluate_model(model, X_test, y_test, \"models/model_metrics.json\")\n",
    "\n",
    "# Print metrics to confirm\n",
    "print(metrics)\n"
   ]
  },
  {
   "cell_type": "code",
   "execution_count": 16,
   "id": "31e52c96",
   "metadata": {},
   "outputs": [
    {
     "ename": "ImportError",
     "evalue": "cannot import name 'save_model' from 'src.model_training' (/home/crystal/AI_Vault/World-climate/src/model_training.py)",
     "output_type": "error",
     "traceback": [
      "\u001b[31m---------------------------------------------------------------------------\u001b[39m",
      "\u001b[31mImportError\u001b[39m                               Traceback (most recent call last)",
      "\u001b[36mCell\u001b[39m\u001b[36m \u001b[39m\u001b[32mIn[16]\u001b[39m\u001b[32m, line 1\u001b[39m\n\u001b[32m----> \u001b[39m\u001b[32m1\u001b[39m \u001b[38;5;28;01mfrom\u001b[39;00m\u001b[38;5;250m \u001b[39m\u001b[34;01msrc\u001b[39;00m\u001b[34;01m.\u001b[39;00m\u001b[34;01mmodel_training\u001b[39;00m\u001b[38;5;250m \u001b[39m\u001b[38;5;28;01mimport\u001b[39;00m save_model, evaluate_model\n",
      "\u001b[31mImportError\u001b[39m: cannot import name 'save_model' from 'src.model_training' (/home/crystal/AI_Vault/World-climate/src/model_training.py)"
     ]
    }
   ],
   "source": [
    "from src.model_training import save_model, evaluate_model\n"
   ]
  },
  {
   "cell_type": "code",
   "execution_count": 1,
   "id": "0354771f",
   "metadata": {},
   "outputs": [
    {
     "name": "stdout",
     "output_type": "stream",
     "text": [
      "/home/crystal/AI_Vault/World-climate/Data\n"
     ]
    }
   ],
   "source": [
    "import os\n",
    "print(os.getcwd())"
   ]
  },
  {
   "cell_type": "code",
   "execution_count": 2,
   "id": "6c520906",
   "metadata": {},
   "outputs": [
    {
     "name": "stdout",
     "output_type": "stream",
     "text": [
      "Now in: /home/crystal/AI_Vault/World-climate\n"
     ]
    }
   ],
   "source": [
    "import os\n",
    "os.chdir(\"..\") \n",
    "print(\"Now in:\", os.getcwd())"
   ]
  },
  {
   "cell_type": "code",
   "execution_count": 3,
   "id": "e01d7d07",
   "metadata": {},
   "outputs": [],
   "source": [
    "import sys\n",
    "from pathlib import Path\n",
    "\n",
    "project_root = Path().resolve()\n",
    "if str(project_root) not in sys.path:\n",
    "    sys.path.append(str(project_root))\n",
    "\n",
    "from src.data_preprocessing import load_data, clean_data\n",
    "from src.model_training import prepare_features, split_data\n"
   ]
  },
  {
   "cell_type": "code",
   "execution_count": 4,
   "id": "9821f89b",
   "metadata": {},
   "outputs": [
    {
     "data": {
      "text/html": [
       "<div>\n",
       "<style scoped>\n",
       "    .dataframe tbody tr th:only-of-type {\n",
       "        vertical-align: middle;\n",
       "    }\n",
       "\n",
       "    .dataframe tbody tr th {\n",
       "        vertical-align: top;\n",
       "    }\n",
       "\n",
       "    .dataframe thead th {\n",
       "        text-align: right;\n",
       "    }\n",
       "</style>\n",
       "<table border=\"1\" class=\"dataframe\">\n",
       "  <thead>\n",
       "    <tr style=\"text-align: right;\">\n",
       "      <th></th>\n",
       "      <th>Country</th>\n",
       "      <th>Data source</th>\n",
       "      <th>Sector</th>\n",
       "      <th>Gas</th>\n",
       "      <th>Unit</th>\n",
       "      <th>Year</th>\n",
       "      <th>Emissions</th>\n",
       "    </tr>\n",
       "  </thead>\n",
       "  <tbody>\n",
       "    <tr>\n",
       "      <th>0</th>\n",
       "      <td>World</td>\n",
       "      <td>CAIT</td>\n",
       "      <td>Total including LUCF</td>\n",
       "      <td>CO2</td>\n",
       "      <td>MtCO₂e</td>\n",
       "      <td>2018</td>\n",
       "      <td>36441.55</td>\n",
       "    </tr>\n",
       "    <tr>\n",
       "      <th>1</th>\n",
       "      <td>China</td>\n",
       "      <td>CAIT</td>\n",
       "      <td>Total including LUCF</td>\n",
       "      <td>CO2</td>\n",
       "      <td>MtCO₂e</td>\n",
       "      <td>2018</td>\n",
       "      <td>9663.36</td>\n",
       "    </tr>\n",
       "    <tr>\n",
       "      <th>2</th>\n",
       "      <td>United States</td>\n",
       "      <td>CAIT</td>\n",
       "      <td>Total including LUCF</td>\n",
       "      <td>CO2</td>\n",
       "      <td>MtCO₂e</td>\n",
       "      <td>2018</td>\n",
       "      <td>4749.57</td>\n",
       "    </tr>\n",
       "    <tr>\n",
       "      <th>3</th>\n",
       "      <td>European Union (27)</td>\n",
       "      <td>CAIT</td>\n",
       "      <td>Total including LUCF</td>\n",
       "      <td>CO2</td>\n",
       "      <td>MtCO₂e</td>\n",
       "      <td>2018</td>\n",
       "      <td>2636.99</td>\n",
       "    </tr>\n",
       "    <tr>\n",
       "      <th>4</th>\n",
       "      <td>India</td>\n",
       "      <td>CAIT</td>\n",
       "      <td>Total including LUCF</td>\n",
       "      <td>CO2</td>\n",
       "      <td>MtCO₂e</td>\n",
       "      <td>2018</td>\n",
       "      <td>2400.25</td>\n",
       "    </tr>\n",
       "  </tbody>\n",
       "</table>\n",
       "</div>"
      ],
      "text/plain": [
       "               Country Data source                Sector  Gas    Unit  Year  \\\n",
       "0                World        CAIT  Total including LUCF  CO2  MtCO₂e  2018   \n",
       "1                China        CAIT  Total including LUCF  CO2  MtCO₂e  2018   \n",
       "2        United States        CAIT  Total including LUCF  CO2  MtCO₂e  2018   \n",
       "3  European Union (27)        CAIT  Total including LUCF  CO2  MtCO₂e  2018   \n",
       "4                India        CAIT  Total including LUCF  CO2  MtCO₂e  2018   \n",
       "\n",
       "   Emissions  \n",
       "0   36441.55  \n",
       "1    9663.36  \n",
       "2    4749.57  \n",
       "3    2636.99  \n",
       "4    2400.25  "
      ]
     },
     "execution_count": 4,
     "metadata": {},
     "output_type": "execute_result"
    }
   ],
   "source": [
    "df = load_data('historical_emissions.csv')  # or 'data/historical_emissions.csv' depending on where the file is\n",
    "df_clean = clean_data(df)\n",
    "df_clean.head()"
   ]
  },
  {
   "cell_type": "code",
   "execution_count": 5,
   "id": "9826495a",
   "metadata": {},
   "outputs": [],
   "source": [
    "df = load_data('historical_emissions.csv')\n",
    "df_clean = clean_data(df)\n",
    "\n",
    "X, y = prepare_features(df_clean)\n",
    "X_train, X_test, y_train, y_test = split_data(X, y)"
   ]
  },
  {
   "cell_type": "code",
   "execution_count": 6,
   "id": "dd36a9fd",
   "metadata": {},
   "outputs": [
    {
     "name": "stdout",
     "output_type": "stream",
     "text": [
      "Model training complete.\n"
     ]
    }
   ],
   "source": [
    "from src.model_training import train_model\n",
    "\n",
    "model = train_model(X_train, y_train)\n",
    "print(\"Model training complete.\")\n"
   ]
  },
  {
   "cell_type": "code",
   "execution_count": 7,
   "id": "f94228ec",
   "metadata": {},
   "outputs": [
    {
     "name": "stdout",
     "output_type": "stream",
     "text": [
      "Model evaluation complete.\n",
      "Mean Squared Error (MSE): 126690.08\n",
      "R² Score: 0.97\n"
     ]
    }
   ],
   "source": [
    "from sklearn.metrics import mean_squared_error, r2_score\n",
    "\n",
    "# Predict on the test set\n",
    "y_pred = model.predict(X_test)\n",
    "\n",
    "# Evaluate performance\n",
    "mse = mean_squared_error(y_test, y_pred)\n",
    "r2 = r2_score(y_test, y_pred)\n",
    "\n",
    "print(f\"Model evaluation complete.\")\n",
    "print(f\"Mean Squared Error (MSE): {mse:.2f}\")\n",
    "print(f\"R² Score: {r2:.2f}\")\n"
   ]
  },
  {
   "cell_type": "code",
   "execution_count": 8,
   "id": "d2f49c64",
   "metadata": {},
   "outputs": [],
   "source": [
    "from src.model_training import save_model\n",
    "\n",
    "# Save the trained model to models/linear_regression_model.pkl\n",
    "save_model(model, \"models/linear_regression_model.pkl\")\n"
   ]
  },
  {
   "cell_type": "code",
   "execution_count": 9,
   "id": "4d75e7be",
   "metadata": {},
   "outputs": [
    {
     "ename": "TypeError",
     "evalue": "got an unexpected keyword argument 'squared'",
     "output_type": "error",
     "traceback": [
      "\u001b[31m---------------------------------------------------------------------------\u001b[39m",
      "\u001b[31mTypeError\u001b[39m                                 Traceback (most recent call last)",
      "\u001b[36mCell\u001b[39m\u001b[36m \u001b[39m\u001b[32mIn[9]\u001b[39m\u001b[32m, line 4\u001b[39m\n\u001b[32m      1\u001b[39m \u001b[38;5;28;01mfrom\u001b[39;00m\u001b[38;5;250m \u001b[39m\u001b[34;01msrc\u001b[39;00m\u001b[34;01m.\u001b[39;00m\u001b[34;01mmodel_training\u001b[39;00m\u001b[38;5;250m \u001b[39m\u001b[38;5;28;01mimport\u001b[39;00m evaluate_model\n\u001b[32m      3\u001b[39m \u001b[38;5;66;03m# Evaluate and optionally save metrics\u001b[39;00m\n\u001b[32m----> \u001b[39m\u001b[32m4\u001b[39m metrics = \u001b[43mevaluate_model\u001b[49m\u001b[43m(\u001b[49m\u001b[43mmodel\u001b[49m\u001b[43m,\u001b[49m\u001b[43m \u001b[49m\u001b[43mX_test\u001b[49m\u001b[43m,\u001b[49m\u001b[43m \u001b[49m\u001b[43my_test\u001b[49m\u001b[43m,\u001b[49m\u001b[43m \u001b[49m\u001b[33;43m\"\u001b[39;49m\u001b[33;43mmodels/model_metrics.json\u001b[39;49m\u001b[33;43m\"\u001b[39;49m\u001b[43m)\u001b[49m\n\u001b[32m      5\u001b[39m \u001b[38;5;28mprint\u001b[39m(metrics)\n",
      "\u001b[36mFile \u001b[39m\u001b[32m~/AI_Vault/World-climate/src/model_training.py:43\u001b[39m, in \u001b[36mevaluate_model\u001b[39m\u001b[34m(model, X_test, y_test, metrics_path)\u001b[39m\n\u001b[32m     41\u001b[39m predictions = model.predict(X_test)\n\u001b[32m     42\u001b[39m r2 = r2_score(y_test, predictions)\n\u001b[32m---> \u001b[39m\u001b[32m43\u001b[39m rmse = \u001b[43mmean_squared_error\u001b[49m\u001b[43m(\u001b[49m\u001b[43my_test\u001b[49m\u001b[43m,\u001b[49m\u001b[43m \u001b[49m\u001b[43mpredictions\u001b[49m\u001b[43m,\u001b[49m\u001b[43m \u001b[49m\u001b[43msquared\u001b[49m\u001b[43m=\u001b[49m\u001b[38;5;28;43;01mFalse\u001b[39;49;00m\u001b[43m)\u001b[49m\n\u001b[32m     45\u001b[39m metrics = {\u001b[33m\"\u001b[39m\u001b[33mr2_score\u001b[39m\u001b[33m\"\u001b[39m: r2, \u001b[33m\"\u001b[39m\u001b[33mrmse\u001b[39m\u001b[33m\"\u001b[39m: rmse}\n\u001b[32m     47\u001b[39m \u001b[38;5;28;01mif\u001b[39;00m metrics_path:\n",
      "\u001b[36mFile \u001b[39m\u001b[32m~/AI_Vault/World-climate/.venv/lib/python3.12/site-packages/sklearn/utils/_param_validation.py:196\u001b[39m, in \u001b[36mvalidate_params.<locals>.decorator.<locals>.wrapper\u001b[39m\u001b[34m(*args, **kwargs)\u001b[39m\n\u001b[32m    193\u001b[39m func_sig = signature(func)\n\u001b[32m    195\u001b[39m \u001b[38;5;66;03m# Map *args/**kwargs to the function signature\u001b[39;00m\n\u001b[32m--> \u001b[39m\u001b[32m196\u001b[39m params = \u001b[43mfunc_sig\u001b[49m\u001b[43m.\u001b[49m\u001b[43mbind\u001b[49m\u001b[43m(\u001b[49m\u001b[43m*\u001b[49m\u001b[43margs\u001b[49m\u001b[43m,\u001b[49m\u001b[43m \u001b[49m\u001b[43m*\u001b[49m\u001b[43m*\u001b[49m\u001b[43mkwargs\u001b[49m\u001b[43m)\u001b[49m\n\u001b[32m    197\u001b[39m params.apply_defaults()\n\u001b[32m    199\u001b[39m \u001b[38;5;66;03m# ignore self/cls and positional/keyword markers\u001b[39;00m\n",
      "\u001b[36mFile \u001b[39m\u001b[32m/usr/lib/python3.12/inspect.py:3242\u001b[39m, in \u001b[36mSignature.bind\u001b[39m\u001b[34m(self, *args, **kwargs)\u001b[39m\n\u001b[32m   3237\u001b[39m \u001b[38;5;28;01mdef\u001b[39;00m\u001b[38;5;250m \u001b[39m\u001b[34mbind\u001b[39m(\u001b[38;5;28mself\u001b[39m, /, *args, **kwargs):\n\u001b[32m   3238\u001b[39m \u001b[38;5;250m    \u001b[39m\u001b[33;03m\"\"\"Get a BoundArguments object, that maps the passed `args`\u001b[39;00m\n\u001b[32m   3239\u001b[39m \u001b[33;03m    and `kwargs` to the function's signature.  Raises `TypeError`\u001b[39;00m\n\u001b[32m   3240\u001b[39m \u001b[33;03m    if the passed arguments can not be bound.\u001b[39;00m\n\u001b[32m   3241\u001b[39m \u001b[33;03m    \"\"\"\u001b[39;00m\n\u001b[32m-> \u001b[39m\u001b[32m3242\u001b[39m     \u001b[38;5;28;01mreturn\u001b[39;00m \u001b[38;5;28;43mself\u001b[39;49m\u001b[43m.\u001b[49m\u001b[43m_bind\u001b[49m\u001b[43m(\u001b[49m\u001b[43margs\u001b[49m\u001b[43m,\u001b[49m\u001b[43m \u001b[49m\u001b[43mkwargs\u001b[49m\u001b[43m)\u001b[49m\n",
      "\u001b[36mFile \u001b[39m\u001b[32m/usr/lib/python3.12/inspect.py:3231\u001b[39m, in \u001b[36mSignature._bind\u001b[39m\u001b[34m(self, args, kwargs, partial)\u001b[39m\n\u001b[32m   3229\u001b[39m         arguments[kwargs_param.name] = kwargs\n\u001b[32m   3230\u001b[39m     \u001b[38;5;28;01melse\u001b[39;00m:\n\u001b[32m-> \u001b[39m\u001b[32m3231\u001b[39m         \u001b[38;5;28;01mraise\u001b[39;00m \u001b[38;5;167;01mTypeError\u001b[39;00m(\n\u001b[32m   3232\u001b[39m             \u001b[33m'\u001b[39m\u001b[33mgot an unexpected keyword argument \u001b[39m\u001b[38;5;132;01m{arg!r}\u001b[39;00m\u001b[33m'\u001b[39m.format(\n\u001b[32m   3233\u001b[39m                 arg=\u001b[38;5;28mnext\u001b[39m(\u001b[38;5;28miter\u001b[39m(kwargs))))\n\u001b[32m   3235\u001b[39m \u001b[38;5;28;01mreturn\u001b[39;00m \u001b[38;5;28mself\u001b[39m._bound_arguments_cls(\u001b[38;5;28mself\u001b[39m, arguments)\n",
      "\u001b[31mTypeError\u001b[39m: got an unexpected keyword argument 'squared'"
     ]
    }
   ],
   "source": [
    "from src.model_training import evaluate_model\n",
    "\n",
    "# Evaluate and optionally save metrics\n",
    "metrics = evaluate_model(model, X_test, y_test, \"models/model_metrics.json\")\n",
    "print(metrics)\n"
   ]
  },
  {
   "cell_type": "code",
   "execution_count": 1,
   "id": "bf0571fd",
   "metadata": {},
   "outputs": [
    {
     "name": "stdout",
     "output_type": "stream",
     "text": [
      "/home/crystal/AI_Vault/World-climate/Data\n"
     ]
    }
   ],
   "source": [
    "import os\n",
    "print(os.getcwd())"
   ]
  },
  {
   "cell_type": "code",
   "execution_count": 2,
   "id": "edb203a0",
   "metadata": {},
   "outputs": [
    {
     "name": "stdout",
     "output_type": "stream",
     "text": [
      "Now in: /home/crystal/AI_Vault/World-climate\n"
     ]
    }
   ],
   "source": [
    "import os\n",
    "os.chdir(\"..\") \n",
    "print(\"Now in:\", os.getcwd())"
   ]
  },
  {
   "cell_type": "code",
   "execution_count": 3,
   "id": "5de16dd5",
   "metadata": {},
   "outputs": [],
   "source": [
    "import sys\n",
    "from pathlib import Path\n",
    "\n",
    "project_root = Path().resolve()\n",
    "if str(project_root) not in sys.path:\n",
    "    sys.path.append(str(project_root))\n",
    "\n",
    "from src.data_preprocessing import load_data, clean_data\n",
    "from src.model_training import prepare_features, split_data"
   ]
  },
  {
   "cell_type": "code",
   "execution_count": 4,
   "id": "319e39a0",
   "metadata": {},
   "outputs": [
    {
     "data": {
      "text/html": [
       "<div>\n",
       "<style scoped>\n",
       "    .dataframe tbody tr th:only-of-type {\n",
       "        vertical-align: middle;\n",
       "    }\n",
       "\n",
       "    .dataframe tbody tr th {\n",
       "        vertical-align: top;\n",
       "    }\n",
       "\n",
       "    .dataframe thead th {\n",
       "        text-align: right;\n",
       "    }\n",
       "</style>\n",
       "<table border=\"1\" class=\"dataframe\">\n",
       "  <thead>\n",
       "    <tr style=\"text-align: right;\">\n",
       "      <th></th>\n",
       "      <th>Country</th>\n",
       "      <th>Data source</th>\n",
       "      <th>Sector</th>\n",
       "      <th>Gas</th>\n",
       "      <th>Unit</th>\n",
       "      <th>Year</th>\n",
       "      <th>Emissions</th>\n",
       "    </tr>\n",
       "  </thead>\n",
       "  <tbody>\n",
       "    <tr>\n",
       "      <th>0</th>\n",
       "      <td>World</td>\n",
       "      <td>CAIT</td>\n",
       "      <td>Total including LUCF</td>\n",
       "      <td>CO2</td>\n",
       "      <td>MtCO₂e</td>\n",
       "      <td>2018</td>\n",
       "      <td>36441.55</td>\n",
       "    </tr>\n",
       "    <tr>\n",
       "      <th>1</th>\n",
       "      <td>China</td>\n",
       "      <td>CAIT</td>\n",
       "      <td>Total including LUCF</td>\n",
       "      <td>CO2</td>\n",
       "      <td>MtCO₂e</td>\n",
       "      <td>2018</td>\n",
       "      <td>9663.36</td>\n",
       "    </tr>\n",
       "    <tr>\n",
       "      <th>2</th>\n",
       "      <td>United States</td>\n",
       "      <td>CAIT</td>\n",
       "      <td>Total including LUCF</td>\n",
       "      <td>CO2</td>\n",
       "      <td>MtCO₂e</td>\n",
       "      <td>2018</td>\n",
       "      <td>4749.57</td>\n",
       "    </tr>\n",
       "    <tr>\n",
       "      <th>3</th>\n",
       "      <td>European Union (27)</td>\n",
       "      <td>CAIT</td>\n",
       "      <td>Total including LUCF</td>\n",
       "      <td>CO2</td>\n",
       "      <td>MtCO₂e</td>\n",
       "      <td>2018</td>\n",
       "      <td>2636.99</td>\n",
       "    </tr>\n",
       "    <tr>\n",
       "      <th>4</th>\n",
       "      <td>India</td>\n",
       "      <td>CAIT</td>\n",
       "      <td>Total including LUCF</td>\n",
       "      <td>CO2</td>\n",
       "      <td>MtCO₂e</td>\n",
       "      <td>2018</td>\n",
       "      <td>2400.25</td>\n",
       "    </tr>\n",
       "  </tbody>\n",
       "</table>\n",
       "</div>"
      ],
      "text/plain": [
       "               Country Data source                Sector  Gas    Unit  Year  \\\n",
       "0                World        CAIT  Total including LUCF  CO2  MtCO₂e  2018   \n",
       "1                China        CAIT  Total including LUCF  CO2  MtCO₂e  2018   \n",
       "2        United States        CAIT  Total including LUCF  CO2  MtCO₂e  2018   \n",
       "3  European Union (27)        CAIT  Total including LUCF  CO2  MtCO₂e  2018   \n",
       "4                India        CAIT  Total including LUCF  CO2  MtCO₂e  2018   \n",
       "\n",
       "   Emissions  \n",
       "0   36441.55  \n",
       "1    9663.36  \n",
       "2    4749.57  \n",
       "3    2636.99  \n",
       "4    2400.25  "
      ]
     },
     "execution_count": 4,
     "metadata": {},
     "output_type": "execute_result"
    }
   ],
   "source": [
    "df = load_data('historical_emissions.csv')  # or 'data/historical_emissions.csv' depending on where the file is\n",
    "df_clean = clean_data(df)\n",
    "df_clean.head()"
   ]
  },
  {
   "cell_type": "code",
   "execution_count": 5,
   "id": "c4277726",
   "metadata": {},
   "outputs": [],
   "source": [
    "df = load_data('historical_emissions.csv')\n",
    "df_clean = clean_data(df)\n",
    "\n",
    "X, y = prepare_features(df_clean)\n",
    "X_train, X_test, y_train, y_test = split_data(X, y)"
   ]
  },
  {
   "cell_type": "code",
   "execution_count": 6,
   "id": "e89aa5d3",
   "metadata": {},
   "outputs": [
    {
     "name": "stdout",
     "output_type": "stream",
     "text": [
      "Model training complete.\n"
     ]
    }
   ],
   "source": [
    "from src.model_training import train_model\n",
    "\n",
    "model = train_model(X_train, y_train)\n",
    "print(\"Model training complete.\")\n"
   ]
  },
  {
   "cell_type": "code",
   "execution_count": 7,
   "id": "d044f9c0",
   "metadata": {},
   "outputs": [
    {
     "name": "stdout",
     "output_type": "stream",
     "text": [
      "Model evaluation complete.\n",
      "Mean Squared Error (MSE): 126690.08\n",
      "R² Score: 0.97\n"
     ]
    }
   ],
   "source": [
    "from sklearn.metrics import mean_squared_error, r2_score\n",
    "\n",
    "# Predict on the test set\n",
    "y_pred = model.predict(X_test)\n",
    "\n",
    "# Evaluate performance\n",
    "mse = mean_squared_error(y_test, y_pred)\n",
    "r2 = r2_score(y_test, y_pred)\n",
    "\n",
    "print(f\"Model evaluation complete.\")\n",
    "print(f\"Mean Squared Error (MSE): {mse:.2f}\")\n",
    "print(f\"R² Score: {r2:.2f}\")\n"
   ]
  },
  {
   "cell_type": "code",
   "execution_count": 8,
   "id": "884a58cf",
   "metadata": {},
   "outputs": [],
   "source": [
    "from src.model_training import save_model\n",
    "\n",
    "# Save the trained model to models/linear_regression_model.pkl\n",
    "save_model(model, \"models/linear_regression_model.pkl\")\n"
   ]
  },
  {
   "cell_type": "code",
   "execution_count": 9,
   "id": "5e8e99b2",
   "metadata": {},
   "outputs": [
    {
     "name": "stdout",
     "output_type": "stream",
     "text": [
      "{'r2_score': 0.9707789148032696, 'rmse': np.float64(355.93549704042033)}\n"
     ]
    }
   ],
   "source": [
    "from src.model_training import evaluate_model\n",
    "\n",
    "metrics = evaluate_model(model, X_test, y_test, \"models/model_metrics.json\")\n",
    "print(metrics)\n"
   ]
  },
  {
   "cell_type": "code",
   "execution_count": 10,
   "id": "22ac77b9",
   "metadata": {},
   "outputs": [],
   "source": [
    "from src.visualization import plot_actual_vs_predicted\n",
    "\n",
    "# Predict using your model\n",
    "y_pred = model.predict(X_test)\n",
    "\n",
    "# Generate and save the plot\n",
    "plot_actual_vs_predicted(y_test, y_pred, \"visualizations/actual_vs_predicted.png\")\n"
   ]
  },
  {
   "cell_type": "code",
   "execution_count": 11,
   "id": "020eca4f",
   "metadata": {},
   "outputs": [
    {
     "ename": "ImportError",
     "evalue": "cannot import name 'plot_correlation_heatmap' from 'src.visualization' (/home/crystal/AI_Vault/World-climate/src/visualization.py)",
     "output_type": "error",
     "traceback": [
      "\u001b[31m---------------------------------------------------------------------------\u001b[39m",
      "\u001b[31mImportError\u001b[39m                               Traceback (most recent call last)",
      "\u001b[36mCell\u001b[39m\u001b[36m \u001b[39m\u001b[32mIn[11]\u001b[39m\u001b[32m, line 1\u001b[39m\n\u001b[32m----> \u001b[39m\u001b[32m1\u001b[39m \u001b[38;5;28;01mfrom\u001b[39;00m\u001b[38;5;250m \u001b[39m\u001b[34;01msrc\u001b[39;00m\u001b[34;01m.\u001b[39;00m\u001b[34;01mvisualization\u001b[39;00m\u001b[38;5;250m \u001b[39m\u001b[38;5;28;01mimport\u001b[39;00m plot_correlation_heatmap\n\u001b[32m      3\u001b[39m \u001b[38;5;66;03m# Use the one-hot encoded feature set from earlier\u001b[39;00m\n\u001b[32m      4\u001b[39m plot_correlation_heatmap(X, \u001b[33m\"\u001b[39m\u001b[33mvisualizations/correlation_heatmap.png\u001b[39m\u001b[33m\"\u001b[39m)\n",
      "\u001b[31mImportError\u001b[39m: cannot import name 'plot_correlation_heatmap' from 'src.visualization' (/home/crystal/AI_Vault/World-climate/src/visualization.py)"
     ]
    }
   ],
   "source": [
    "from src.visualization import plot_correlation_heatmap\n",
    "\n",
    "# Use the one-hot encoded feature set from earlier\n",
    "plot_correlation_heatmap(X, \"visualizations/correlation_heatmap.png\")\n"
   ]
  },
  {
   "cell_type": "code",
   "execution_count": 12,
   "id": "9506ba28",
   "metadata": {},
   "outputs": [
    {
     "ename": "ImportError",
     "evalue": "cannot import name 'plot_correlation_heatmap' from 'src.visualization' (/home/crystal/AI_Vault/World-climate/src/visualization.py)",
     "output_type": "error",
     "traceback": [
      "\u001b[31m---------------------------------------------------------------------------\u001b[39m",
      "\u001b[31mImportError\u001b[39m                               Traceback (most recent call last)",
      "\u001b[36mCell\u001b[39m\u001b[36m \u001b[39m\u001b[32mIn[12]\u001b[39m\u001b[32m, line 1\u001b[39m\n\u001b[32m----> \u001b[39m\u001b[32m1\u001b[39m \u001b[38;5;28;01mfrom\u001b[39;00m\u001b[38;5;250m \u001b[39m\u001b[34;01msrc\u001b[39;00m\u001b[34;01m.\u001b[39;00m\u001b[34;01mvisualization\u001b[39;00m\u001b[38;5;250m \u001b[39m\u001b[38;5;28;01mimport\u001b[39;00m plot_correlation_heatmap\n\u001b[32m      3\u001b[39m plot_correlation_heatmap(X, \u001b[33m\"\u001b[39m\u001b[33mvisualizations/correlation_heatmap.png\u001b[39m\u001b[33m\"\u001b[39m)\n",
      "\u001b[31mImportError\u001b[39m: cannot import name 'plot_correlation_heatmap' from 'src.visualization' (/home/crystal/AI_Vault/World-climate/src/visualization.py)"
     ]
    }
   ],
   "source": [
    "from src.visualization import plot_correlation_heatmap\n",
    "\n",
    "plot_correlation_heatmap(X, \"visualizations/correlation_heatmap.png\")\n"
   ]
  },
  {
   "cell_type": "code",
   "execution_count": 1,
   "id": "7db97c1a",
   "metadata": {},
   "outputs": [
    {
     "name": "stdout",
     "output_type": "stream",
     "text": [
      "/home/crystal/AI_Vault/World-climate/Data\n"
     ]
    }
   ],
   "source": [
    "import os\n",
    "print(os.getcwd())"
   ]
  },
  {
   "cell_type": "code",
   "execution_count": 2,
   "id": "ce55d422",
   "metadata": {},
   "outputs": [
    {
     "name": "stdout",
     "output_type": "stream",
     "text": [
      "Now in: /home/crystal/AI_Vault/World-climate\n"
     ]
    }
   ],
   "source": [
    "import os\n",
    "os.chdir(\"..\") \n",
    "print(\"Now in:\", os.getcwd())"
   ]
  },
  {
   "cell_type": "code",
   "execution_count": 3,
   "id": "6ec39ec8",
   "metadata": {},
   "outputs": [],
   "source": [
    "import sys\n",
    "from pathlib import Path\n",
    "\n",
    "project_root = Path().resolve()\n",
    "if str(project_root) not in sys.path:\n",
    "    sys.path.append(str(project_root))\n",
    "\n",
    "from src.data_preprocessing import load_data, clean_data\n",
    "from src.model_training import prepare_features, split_data"
   ]
  },
  {
   "cell_type": "code",
   "execution_count": 4,
   "id": "db8b29ad",
   "metadata": {},
   "outputs": [
    {
     "data": {
      "text/html": [
       "<div>\n",
       "<style scoped>\n",
       "    .dataframe tbody tr th:only-of-type {\n",
       "        vertical-align: middle;\n",
       "    }\n",
       "\n",
       "    .dataframe tbody tr th {\n",
       "        vertical-align: top;\n",
       "    }\n",
       "\n",
       "    .dataframe thead th {\n",
       "        text-align: right;\n",
       "    }\n",
       "</style>\n",
       "<table border=\"1\" class=\"dataframe\">\n",
       "  <thead>\n",
       "    <tr style=\"text-align: right;\">\n",
       "      <th></th>\n",
       "      <th>Country</th>\n",
       "      <th>Data source</th>\n",
       "      <th>Sector</th>\n",
       "      <th>Gas</th>\n",
       "      <th>Unit</th>\n",
       "      <th>Year</th>\n",
       "      <th>Emissions</th>\n",
       "    </tr>\n",
       "  </thead>\n",
       "  <tbody>\n",
       "    <tr>\n",
       "      <th>0</th>\n",
       "      <td>World</td>\n",
       "      <td>CAIT</td>\n",
       "      <td>Total including LUCF</td>\n",
       "      <td>CO2</td>\n",
       "      <td>MtCO₂e</td>\n",
       "      <td>2018</td>\n",
       "      <td>36441.55</td>\n",
       "    </tr>\n",
       "    <tr>\n",
       "      <th>1</th>\n",
       "      <td>China</td>\n",
       "      <td>CAIT</td>\n",
       "      <td>Total including LUCF</td>\n",
       "      <td>CO2</td>\n",
       "      <td>MtCO₂e</td>\n",
       "      <td>2018</td>\n",
       "      <td>9663.36</td>\n",
       "    </tr>\n",
       "    <tr>\n",
       "      <th>2</th>\n",
       "      <td>United States</td>\n",
       "      <td>CAIT</td>\n",
       "      <td>Total including LUCF</td>\n",
       "      <td>CO2</td>\n",
       "      <td>MtCO₂e</td>\n",
       "      <td>2018</td>\n",
       "      <td>4749.57</td>\n",
       "    </tr>\n",
       "    <tr>\n",
       "      <th>3</th>\n",
       "      <td>European Union (27)</td>\n",
       "      <td>CAIT</td>\n",
       "      <td>Total including LUCF</td>\n",
       "      <td>CO2</td>\n",
       "      <td>MtCO₂e</td>\n",
       "      <td>2018</td>\n",
       "      <td>2636.99</td>\n",
       "    </tr>\n",
       "    <tr>\n",
       "      <th>4</th>\n",
       "      <td>India</td>\n",
       "      <td>CAIT</td>\n",
       "      <td>Total including LUCF</td>\n",
       "      <td>CO2</td>\n",
       "      <td>MtCO₂e</td>\n",
       "      <td>2018</td>\n",
       "      <td>2400.25</td>\n",
       "    </tr>\n",
       "  </tbody>\n",
       "</table>\n",
       "</div>"
      ],
      "text/plain": [
       "               Country Data source                Sector  Gas    Unit  Year  \\\n",
       "0                World        CAIT  Total including LUCF  CO2  MtCO₂e  2018   \n",
       "1                China        CAIT  Total including LUCF  CO2  MtCO₂e  2018   \n",
       "2        United States        CAIT  Total including LUCF  CO2  MtCO₂e  2018   \n",
       "3  European Union (27)        CAIT  Total including LUCF  CO2  MtCO₂e  2018   \n",
       "4                India        CAIT  Total including LUCF  CO2  MtCO₂e  2018   \n",
       "\n",
       "   Emissions  \n",
       "0   36441.55  \n",
       "1    9663.36  \n",
       "2    4749.57  \n",
       "3    2636.99  \n",
       "4    2400.25  "
      ]
     },
     "execution_count": 4,
     "metadata": {},
     "output_type": "execute_result"
    }
   ],
   "source": [
    "df = load_data('historical_emissions.csv')  # or 'data/historical_emissions.csv' depending on where the file is\n",
    "df_clean = clean_data(df)\n",
    "df_clean.head()"
   ]
  },
  {
   "cell_type": "code",
   "execution_count": 5,
   "id": "e15bf488",
   "metadata": {},
   "outputs": [],
   "source": [
    "df = load_data('historical_emissions.csv')\n",
    "df_clean = clean_data(df)\n",
    "\n",
    "X, y = prepare_features(df_clean)\n",
    "X_train, X_test, y_train, y_test = split_data(X, y)"
   ]
  },
  {
   "cell_type": "code",
   "execution_count": 6,
   "id": "9199306b",
   "metadata": {},
   "outputs": [
    {
     "name": "stdout",
     "output_type": "stream",
     "text": [
      "Model training complete.\n"
     ]
    }
   ],
   "source": [
    "from src.model_training import train_model\n",
    "\n",
    "model = train_model(X_train, y_train)\n",
    "print(\"Model training complete.\")\n"
   ]
  },
  {
   "cell_type": "code",
   "execution_count": 7,
   "id": "84d6cbeb",
   "metadata": {},
   "outputs": [
    {
     "name": "stdout",
     "output_type": "stream",
     "text": [
      "Model evaluation complete.\n",
      "Mean Squared Error (MSE): 126690.08\n",
      "R² Score: 0.97\n"
     ]
    }
   ],
   "source": [
    "from sklearn.metrics import mean_squared_error, r2_score\n",
    "\n",
    "# Predict on the test set\n",
    "y_pred = model.predict(X_test)\n",
    "\n",
    "# Evaluate performance\n",
    "mse = mean_squared_error(y_test, y_pred)\n",
    "r2 = r2_score(y_test, y_pred)\n",
    "\n",
    "print(f\"Model evaluation complete.\")\n",
    "print(f\"Mean Squared Error (MSE): {mse:.2f}\")\n",
    "print(f\"R² Score: {r2:.2f}\")\n"
   ]
  },
  {
   "cell_type": "code",
   "execution_count": 8,
   "id": "d1d2c118",
   "metadata": {},
   "outputs": [],
   "source": [
    "from src.model_training import save_model\n",
    "\n",
    "# Save the trained model to models/linear_regression_model.pkl\n",
    "save_model(model, \"models/linear_regression_model.pkl\")\n"
   ]
  },
  {
   "cell_type": "code",
   "execution_count": 9,
   "id": "c7b676f9",
   "metadata": {},
   "outputs": [
    {
     "name": "stdout",
     "output_type": "stream",
     "text": [
      "{'r2_score': 0.9707789148032696, 'rmse': np.float64(355.93549704042033)}\n"
     ]
    }
   ],
   "source": [
    "from src.model_training import evaluate_model\n",
    "\n",
    "metrics = evaluate_model(model, X_test, y_test, \"models/model_metrics.json\")\n",
    "print(metrics)\n"
   ]
  },
  {
   "cell_type": "code",
   "execution_count": 10,
   "id": "d9db24db",
   "metadata": {},
   "outputs": [],
   "source": [
    "from src.visualization import plot_actual_vs_predicted\n",
    "\n",
    "# Predict using your model\n",
    "y_pred = model.predict(X_test)\n",
    "\n",
    "# Generate and save the plot\n",
    "plot_actual_vs_predicted(y_test, y_pred, \"visualizations/actual_vs_predicted.png\")\n"
   ]
  },
  {
   "cell_type": "code",
   "execution_count": 11,
   "id": "f411e8af",
   "metadata": {},
   "outputs": [],
   "source": [
    "from src.visualization import plot_correlation_heatmap\n"
   ]
  },
  {
   "cell_type": "code",
   "execution_count": 12,
   "id": "9af3e172",
   "metadata": {},
   "outputs": [],
   "source": [
    "from src.visualization import plot_correlation_heatmap\n",
    "\n",
    "# Use your one-hot encoded features (X)\n",
    "plot_correlation_heatmap(X, \"visualizations/correlation_heatmap.png\")\n"
   ]
  },
  {
   "cell_type": "code",
   "execution_count": 13,
   "id": "b0d1125b",
   "metadata": {},
   "outputs": [
    {
     "ename": "ImportError",
     "evalue": "cannot import name 'plot_data_distribution' from 'src.visualization' (/home/crystal/AI_Vault/World-climate/src/visualization.py)",
     "output_type": "error",
     "traceback": [
      "\u001b[31m---------------------------------------------------------------------------\u001b[39m",
      "\u001b[31mImportError\u001b[39m                               Traceback (most recent call last)",
      "\u001b[36mCell\u001b[39m\u001b[36m \u001b[39m\u001b[32mIn[13]\u001b[39m\u001b[32m, line 1\u001b[39m\n\u001b[32m----> \u001b[39m\u001b[32m1\u001b[39m \u001b[38;5;28;01mfrom\u001b[39;00m\u001b[38;5;250m \u001b[39m\u001b[34;01msrc\u001b[39;00m\u001b[34;01m.\u001b[39;00m\u001b[34;01mvisualization\u001b[39;00m\u001b[38;5;250m \u001b[39m\u001b[38;5;28;01mimport\u001b[39;00m plot_data_distribution\n\u001b[32m      3\u001b[39m \u001b[38;5;66;03m# Load the cleaned dataset again if not already loaded\u001b[39;00m\n\u001b[32m      4\u001b[39m df_cleaned = pd.read_csv(\u001b[33m\"\u001b[39m\u001b[33mdata/co2_emissions_cleaned.csv\u001b[39m\u001b[33m\"\u001b[39m)\n",
      "\u001b[31mImportError\u001b[39m: cannot import name 'plot_data_distribution' from 'src.visualization' (/home/crystal/AI_Vault/World-climate/src/visualization.py)"
     ]
    }
   ],
   "source": [
    "from src.visualization import plot_data_distribution\n",
    "\n",
    "# Load the cleaned dataset again if not already loaded\n",
    "df_cleaned = pd.read_csv(\"data/co2_emissions_cleaned.csv\")\n",
    "\n",
    "# Plot the distribution\n",
    "plot_data_distribution(df_cleaned, \"Emissions\", \"visualizations/data_distribution.png\")\n"
   ]
  },
  {
   "cell_type": "code",
   "execution_count": 14,
   "id": "a6798487",
   "metadata": {},
   "outputs": [
    {
     "ename": "ImportError",
     "evalue": "cannot import name 'plot_data_distribution' from 'src.visualization' (/home/crystal/AI_Vault/World-climate/src/visualization.py)",
     "output_type": "error",
     "traceback": [
      "\u001b[31m---------------------------------------------------------------------------\u001b[39m",
      "\u001b[31mImportError\u001b[39m                               Traceback (most recent call last)",
      "\u001b[36mCell\u001b[39m\u001b[36m \u001b[39m\u001b[32mIn[14]\u001b[39m\u001b[32m, line 1\u001b[39m\n\u001b[32m----> \u001b[39m\u001b[32m1\u001b[39m \u001b[38;5;28;01mfrom\u001b[39;00m\u001b[38;5;250m \u001b[39m\u001b[34;01msrc\u001b[39;00m\u001b[34;01m.\u001b[39;00m\u001b[34;01mvisualization\u001b[39;00m\u001b[38;5;250m \u001b[39m\u001b[38;5;28;01mimport\u001b[39;00m plot_data_distribution\n\u001b[32m      3\u001b[39m \u001b[38;5;66;03m# Load the cleaned dataset again if not already loaded\u001b[39;00m\n\u001b[32m      4\u001b[39m df_cleaned = pd.read_csv(\u001b[33m\"\u001b[39m\u001b[33mdata/co2_emissions_cleaned.csv\u001b[39m\u001b[33m\"\u001b[39m)\n",
      "\u001b[31mImportError\u001b[39m: cannot import name 'plot_data_distribution' from 'src.visualization' (/home/crystal/AI_Vault/World-climate/src/visualization.py)"
     ]
    }
   ],
   "source": [
    "from src.visualization import plot_data_distribution\n",
    "\n",
    "# Load the cleaned dataset again if not already loaded\n",
    "df_cleaned = pd.read_csv(\"data/co2_emissions_cleaned.csv\")\n",
    "\n",
    "# Plot the distribution\n",
    "plot_data_distribution(df_cleaned, \"Emissions\", \"visualizations/data_distribution.png\")\n"
   ]
  },
  {
   "cell_type": "code",
   "execution_count": 1,
   "id": "1a49753d",
   "metadata": {},
   "outputs": [
    {
     "name": "stdout",
     "output_type": "stream",
     "text": [
      "/home/crystal/AI_Vault/World-climate/Data\n"
     ]
    }
   ],
   "source": [
    "import os\n",
    "print(os.getcwd())"
   ]
  },
  {
   "cell_type": "code",
   "execution_count": 2,
   "id": "c4c5cb7b",
   "metadata": {},
   "outputs": [
    {
     "name": "stdout",
     "output_type": "stream",
     "text": [
      "Now in: /home/crystal/AI_Vault/World-climate\n"
     ]
    }
   ],
   "source": [
    "import os\n",
    "os.chdir(\"..\") \n",
    "print(\"Now in:\", os.getcwd())"
   ]
  },
  {
   "cell_type": "code",
   "execution_count": 3,
   "id": "afeeee38",
   "metadata": {},
   "outputs": [],
   "source": [
    "import sys\n",
    "from pathlib import Path\n",
    "\n",
    "project_root = Path().resolve()\n",
    "if str(project_root) not in sys.path:\n",
    "    sys.path.append(str(project_root))\n",
    "\n",
    "from src.data_preprocessing import load_data, clean_data\n",
    "from src.model_training import prepare_features, split_data"
   ]
  },
  {
   "cell_type": "code",
   "execution_count": 4,
   "id": "bba6346d",
   "metadata": {},
   "outputs": [
    {
     "data": {
      "text/html": [
       "<div>\n",
       "<style scoped>\n",
       "    .dataframe tbody tr th:only-of-type {\n",
       "        vertical-align: middle;\n",
       "    }\n",
       "\n",
       "    .dataframe tbody tr th {\n",
       "        vertical-align: top;\n",
       "    }\n",
       "\n",
       "    .dataframe thead th {\n",
       "        text-align: right;\n",
       "    }\n",
       "</style>\n",
       "<table border=\"1\" class=\"dataframe\">\n",
       "  <thead>\n",
       "    <tr style=\"text-align: right;\">\n",
       "      <th></th>\n",
       "      <th>Country</th>\n",
       "      <th>Data source</th>\n",
       "      <th>Sector</th>\n",
       "      <th>Gas</th>\n",
       "      <th>Unit</th>\n",
       "      <th>Year</th>\n",
       "      <th>Emissions</th>\n",
       "    </tr>\n",
       "  </thead>\n",
       "  <tbody>\n",
       "    <tr>\n",
       "      <th>0</th>\n",
       "      <td>World</td>\n",
       "      <td>CAIT</td>\n",
       "      <td>Total including LUCF</td>\n",
       "      <td>CO2</td>\n",
       "      <td>MtCO₂e</td>\n",
       "      <td>2018</td>\n",
       "      <td>36441.55</td>\n",
       "    </tr>\n",
       "    <tr>\n",
       "      <th>1</th>\n",
       "      <td>China</td>\n",
       "      <td>CAIT</td>\n",
       "      <td>Total including LUCF</td>\n",
       "      <td>CO2</td>\n",
       "      <td>MtCO₂e</td>\n",
       "      <td>2018</td>\n",
       "      <td>9663.36</td>\n",
       "    </tr>\n",
       "    <tr>\n",
       "      <th>2</th>\n",
       "      <td>United States</td>\n",
       "      <td>CAIT</td>\n",
       "      <td>Total including LUCF</td>\n",
       "      <td>CO2</td>\n",
       "      <td>MtCO₂e</td>\n",
       "      <td>2018</td>\n",
       "      <td>4749.57</td>\n",
       "    </tr>\n",
       "    <tr>\n",
       "      <th>3</th>\n",
       "      <td>European Union (27)</td>\n",
       "      <td>CAIT</td>\n",
       "      <td>Total including LUCF</td>\n",
       "      <td>CO2</td>\n",
       "      <td>MtCO₂e</td>\n",
       "      <td>2018</td>\n",
       "      <td>2636.99</td>\n",
       "    </tr>\n",
       "    <tr>\n",
       "      <th>4</th>\n",
       "      <td>India</td>\n",
       "      <td>CAIT</td>\n",
       "      <td>Total including LUCF</td>\n",
       "      <td>CO2</td>\n",
       "      <td>MtCO₂e</td>\n",
       "      <td>2018</td>\n",
       "      <td>2400.25</td>\n",
       "    </tr>\n",
       "  </tbody>\n",
       "</table>\n",
       "</div>"
      ],
      "text/plain": [
       "               Country Data source                Sector  Gas    Unit  Year  \\\n",
       "0                World        CAIT  Total including LUCF  CO2  MtCO₂e  2018   \n",
       "1                China        CAIT  Total including LUCF  CO2  MtCO₂e  2018   \n",
       "2        United States        CAIT  Total including LUCF  CO2  MtCO₂e  2018   \n",
       "3  European Union (27)        CAIT  Total including LUCF  CO2  MtCO₂e  2018   \n",
       "4                India        CAIT  Total including LUCF  CO2  MtCO₂e  2018   \n",
       "\n",
       "   Emissions  \n",
       "0   36441.55  \n",
       "1    9663.36  \n",
       "2    4749.57  \n",
       "3    2636.99  \n",
       "4    2400.25  "
      ]
     },
     "execution_count": 4,
     "metadata": {},
     "output_type": "execute_result"
    }
   ],
   "source": [
    "df = load_data('historical_emissions.csv')  # or 'data/historical_emissions.csv' depending on where the file is\n",
    "df_clean = clean_data(df)\n",
    "df_clean.head()"
   ]
  },
  {
   "cell_type": "code",
   "execution_count": 5,
   "id": "8905415f",
   "metadata": {},
   "outputs": [],
   "source": [
    "df = load_data('historical_emissions.csv')\n",
    "df_clean = clean_data(df)\n",
    "\n",
    "X, y = prepare_features(df_clean)\n",
    "X_train, X_test, y_train, y_test = split_data(X, y)"
   ]
  },
  {
   "cell_type": "code",
   "execution_count": 6,
   "id": "8aa48a2e",
   "metadata": {},
   "outputs": [
    {
     "name": "stdout",
     "output_type": "stream",
     "text": [
      "Model training complete.\n"
     ]
    }
   ],
   "source": [
    "from src.model_training import train_model\n",
    "\n",
    "model = train_model(X_train, y_train)\n",
    "print(\"Model training complete.\")\n"
   ]
  },
  {
   "cell_type": "code",
   "execution_count": 7,
   "id": "08b98de8",
   "metadata": {},
   "outputs": [
    {
     "name": "stdout",
     "output_type": "stream",
     "text": [
      "Model evaluation complete.\n",
      "Mean Squared Error (MSE): 126690.08\n",
      "R² Score: 0.97\n"
     ]
    }
   ],
   "source": [
    "from sklearn.metrics import mean_squared_error, r2_score\n",
    "\n",
    "# Predict on the test set\n",
    "y_pred = model.predict(X_test)\n",
    "\n",
    "# Evaluate performance\n",
    "mse = mean_squared_error(y_test, y_pred)\n",
    "r2 = r2_score(y_test, y_pred)\n",
    "\n",
    "print(f\"Model evaluation complete.\")\n",
    "print(f\"Mean Squared Error (MSE): {mse:.2f}\")\n",
    "print(f\"R² Score: {r2:.2f}\")\n"
   ]
  },
  {
   "cell_type": "code",
   "execution_count": 8,
   "id": "164fcc19",
   "metadata": {},
   "outputs": [],
   "source": [
    "from src.model_training import save_model\n",
    "\n",
    "# Save the trained model to models/linear_regression_model.pkl\n",
    "save_model(model, \"models/linear_regression_model.pkl\")\n"
   ]
  },
  {
   "cell_type": "code",
   "execution_count": 9,
   "id": "61238fa6",
   "metadata": {},
   "outputs": [
    {
     "name": "stdout",
     "output_type": "stream",
     "text": [
      "{'r2_score': 0.9707789148032696, 'rmse': np.float64(355.93549704042033)}\n"
     ]
    }
   ],
   "source": [
    "from src.model_training import evaluate_model\n",
    "\n",
    "metrics = evaluate_model(model, X_test, y_test, \"models/model_metrics.json\")\n",
    "print(metrics)\n"
   ]
  },
  {
   "cell_type": "code",
   "execution_count": 10,
   "id": "191b3228",
   "metadata": {},
   "outputs": [],
   "source": [
    "from src.visualization import plot_actual_vs_predicted\n",
    "\n",
    "# Predict using your model\n",
    "y_pred = model.predict(X_test)\n",
    "\n",
    "# Generate and save the plot\n",
    "plot_actual_vs_predicted(y_test, y_pred, \"visualizations/actual_vs_predicted.png\")"
   ]
  },
  {
   "cell_type": "code",
   "execution_count": 11,
   "id": "04720ace",
   "metadata": {},
   "outputs": [],
   "source": [
    "from src.visualization import plot_correlation_heatmap\n",
    "\n",
    "# Use your one-hot encoded features (X)\n",
    "plot_correlation_heatmap(X, \"visualizations/correlation_heatmap.png\")"
   ]
  },
  {
   "cell_type": "code",
   "execution_count": 12,
   "id": "813ec0a3",
   "metadata": {},
   "outputs": [],
   "source": [
    "from src.visualization import plot_data_distribution\n"
   ]
  },
  {
   "cell_type": "code",
   "execution_count": 14,
   "id": "9318a14d",
   "metadata": {},
   "outputs": [
    {
     "ename": "FileNotFoundError",
     "evalue": "[Errno 2] No such file or directory: 'co2_emissions_cleaned.csv'",
     "output_type": "error",
     "traceback": [
      "\u001b[31m---------------------------------------------------------------------------\u001b[39m",
      "\u001b[31mFileNotFoundError\u001b[39m                         Traceback (most recent call last)",
      "\u001b[36mCell\u001b[39m\u001b[36m \u001b[39m\u001b[32mIn[14]\u001b[39m\u001b[32m, line 3\u001b[39m\n\u001b[32m      1\u001b[39m \u001b[38;5;28;01mimport\u001b[39;00m\u001b[38;5;250m \u001b[39m\u001b[34;01mpandas\u001b[39;00m\u001b[38;5;250m \u001b[39m\u001b[38;5;28;01mas\u001b[39;00m\u001b[38;5;250m \u001b[39m\u001b[34;01mpd\u001b[39;00m\n\u001b[32m----> \u001b[39m\u001b[32m3\u001b[39m df_cleaned = \u001b[43mpd\u001b[49m\u001b[43m.\u001b[49m\u001b[43mread_csv\u001b[49m\u001b[43m(\u001b[49m\u001b[33;43m\"\u001b[39;49m\u001b[33;43mco2_emissions_cleaned.csv\u001b[39;49m\u001b[33;43m\"\u001b[39;49m\u001b[43m)\u001b[49m\n\u001b[32m      4\u001b[39m plot_data_distribution(df_cleaned, \u001b[33m\"\u001b[39m\u001b[33mEmissions\u001b[39m\u001b[33m\"\u001b[39m, \u001b[33m\"\u001b[39m\u001b[33mvisualizations/data_distribution.png\u001b[39m\u001b[33m\"\u001b[39m)\n",
      "\u001b[36mFile \u001b[39m\u001b[32m~/AI_Vault/World-climate/.venv/lib/python3.12/site-packages/pandas/io/parsers/readers.py:1026\u001b[39m, in \u001b[36mread_csv\u001b[39m\u001b[34m(filepath_or_buffer, sep, delimiter, header, names, index_col, usecols, dtype, engine, converters, true_values, false_values, skipinitialspace, skiprows, skipfooter, nrows, na_values, keep_default_na, na_filter, verbose, skip_blank_lines, parse_dates, infer_datetime_format, keep_date_col, date_parser, date_format, dayfirst, cache_dates, iterator, chunksize, compression, thousands, decimal, lineterminator, quotechar, quoting, doublequote, escapechar, comment, encoding, encoding_errors, dialect, on_bad_lines, delim_whitespace, low_memory, memory_map, float_precision, storage_options, dtype_backend)\u001b[39m\n\u001b[32m   1013\u001b[39m kwds_defaults = _refine_defaults_read(\n\u001b[32m   1014\u001b[39m     dialect,\n\u001b[32m   1015\u001b[39m     delimiter,\n\u001b[32m   (...)\u001b[39m\u001b[32m   1022\u001b[39m     dtype_backend=dtype_backend,\n\u001b[32m   1023\u001b[39m )\n\u001b[32m   1024\u001b[39m kwds.update(kwds_defaults)\n\u001b[32m-> \u001b[39m\u001b[32m1026\u001b[39m \u001b[38;5;28;01mreturn\u001b[39;00m \u001b[43m_read\u001b[49m\u001b[43m(\u001b[49m\u001b[43mfilepath_or_buffer\u001b[49m\u001b[43m,\u001b[49m\u001b[43m \u001b[49m\u001b[43mkwds\u001b[49m\u001b[43m)\u001b[49m\n",
      "\u001b[36mFile \u001b[39m\u001b[32m~/AI_Vault/World-climate/.venv/lib/python3.12/site-packages/pandas/io/parsers/readers.py:620\u001b[39m, in \u001b[36m_read\u001b[39m\u001b[34m(filepath_or_buffer, kwds)\u001b[39m\n\u001b[32m    617\u001b[39m _validate_names(kwds.get(\u001b[33m\"\u001b[39m\u001b[33mnames\u001b[39m\u001b[33m\"\u001b[39m, \u001b[38;5;28;01mNone\u001b[39;00m))\n\u001b[32m    619\u001b[39m \u001b[38;5;66;03m# Create the parser.\u001b[39;00m\n\u001b[32m--> \u001b[39m\u001b[32m620\u001b[39m parser = \u001b[43mTextFileReader\u001b[49m\u001b[43m(\u001b[49m\u001b[43mfilepath_or_buffer\u001b[49m\u001b[43m,\u001b[49m\u001b[43m \u001b[49m\u001b[43m*\u001b[49m\u001b[43m*\u001b[49m\u001b[43mkwds\u001b[49m\u001b[43m)\u001b[49m\n\u001b[32m    622\u001b[39m \u001b[38;5;28;01mif\u001b[39;00m chunksize \u001b[38;5;129;01mor\u001b[39;00m iterator:\n\u001b[32m    623\u001b[39m     \u001b[38;5;28;01mreturn\u001b[39;00m parser\n",
      "\u001b[36mFile \u001b[39m\u001b[32m~/AI_Vault/World-climate/.venv/lib/python3.12/site-packages/pandas/io/parsers/readers.py:1620\u001b[39m, in \u001b[36mTextFileReader.__init__\u001b[39m\u001b[34m(self, f, engine, **kwds)\u001b[39m\n\u001b[32m   1617\u001b[39m     \u001b[38;5;28mself\u001b[39m.options[\u001b[33m\"\u001b[39m\u001b[33mhas_index_names\u001b[39m\u001b[33m\"\u001b[39m] = kwds[\u001b[33m\"\u001b[39m\u001b[33mhas_index_names\u001b[39m\u001b[33m\"\u001b[39m]\n\u001b[32m   1619\u001b[39m \u001b[38;5;28mself\u001b[39m.handles: IOHandles | \u001b[38;5;28;01mNone\u001b[39;00m = \u001b[38;5;28;01mNone\u001b[39;00m\n\u001b[32m-> \u001b[39m\u001b[32m1620\u001b[39m \u001b[38;5;28mself\u001b[39m._engine = \u001b[38;5;28;43mself\u001b[39;49m\u001b[43m.\u001b[49m\u001b[43m_make_engine\u001b[49m\u001b[43m(\u001b[49m\u001b[43mf\u001b[49m\u001b[43m,\u001b[49m\u001b[43m \u001b[49m\u001b[38;5;28;43mself\u001b[39;49m\u001b[43m.\u001b[49m\u001b[43mengine\u001b[49m\u001b[43m)\u001b[49m\n",
      "\u001b[36mFile \u001b[39m\u001b[32m~/AI_Vault/World-climate/.venv/lib/python3.12/site-packages/pandas/io/parsers/readers.py:1880\u001b[39m, in \u001b[36mTextFileReader._make_engine\u001b[39m\u001b[34m(self, f, engine)\u001b[39m\n\u001b[32m   1878\u001b[39m     \u001b[38;5;28;01mif\u001b[39;00m \u001b[33m\"\u001b[39m\u001b[33mb\u001b[39m\u001b[33m\"\u001b[39m \u001b[38;5;129;01mnot\u001b[39;00m \u001b[38;5;129;01min\u001b[39;00m mode:\n\u001b[32m   1879\u001b[39m         mode += \u001b[33m\"\u001b[39m\u001b[33mb\u001b[39m\u001b[33m\"\u001b[39m\n\u001b[32m-> \u001b[39m\u001b[32m1880\u001b[39m \u001b[38;5;28mself\u001b[39m.handles = \u001b[43mget_handle\u001b[49m\u001b[43m(\u001b[49m\n\u001b[32m   1881\u001b[39m \u001b[43m    \u001b[49m\u001b[43mf\u001b[49m\u001b[43m,\u001b[49m\n\u001b[32m   1882\u001b[39m \u001b[43m    \u001b[49m\u001b[43mmode\u001b[49m\u001b[43m,\u001b[49m\n\u001b[32m   1883\u001b[39m \u001b[43m    \u001b[49m\u001b[43mencoding\u001b[49m\u001b[43m=\u001b[49m\u001b[38;5;28;43mself\u001b[39;49m\u001b[43m.\u001b[49m\u001b[43moptions\u001b[49m\u001b[43m.\u001b[49m\u001b[43mget\u001b[49m\u001b[43m(\u001b[49m\u001b[33;43m\"\u001b[39;49m\u001b[33;43mencoding\u001b[39;49m\u001b[33;43m\"\u001b[39;49m\u001b[43m,\u001b[49m\u001b[43m \u001b[49m\u001b[38;5;28;43;01mNone\u001b[39;49;00m\u001b[43m)\u001b[49m\u001b[43m,\u001b[49m\n\u001b[32m   1884\u001b[39m \u001b[43m    \u001b[49m\u001b[43mcompression\u001b[49m\u001b[43m=\u001b[49m\u001b[38;5;28;43mself\u001b[39;49m\u001b[43m.\u001b[49m\u001b[43moptions\u001b[49m\u001b[43m.\u001b[49m\u001b[43mget\u001b[49m\u001b[43m(\u001b[49m\u001b[33;43m\"\u001b[39;49m\u001b[33;43mcompression\u001b[39;49m\u001b[33;43m\"\u001b[39;49m\u001b[43m,\u001b[49m\u001b[43m \u001b[49m\u001b[38;5;28;43;01mNone\u001b[39;49;00m\u001b[43m)\u001b[49m\u001b[43m,\u001b[49m\n\u001b[32m   1885\u001b[39m \u001b[43m    \u001b[49m\u001b[43mmemory_map\u001b[49m\u001b[43m=\u001b[49m\u001b[38;5;28;43mself\u001b[39;49m\u001b[43m.\u001b[49m\u001b[43moptions\u001b[49m\u001b[43m.\u001b[49m\u001b[43mget\u001b[49m\u001b[43m(\u001b[49m\u001b[33;43m\"\u001b[39;49m\u001b[33;43mmemory_map\u001b[39;49m\u001b[33;43m\"\u001b[39;49m\u001b[43m,\u001b[49m\u001b[43m \u001b[49m\u001b[38;5;28;43;01mFalse\u001b[39;49;00m\u001b[43m)\u001b[49m\u001b[43m,\u001b[49m\n\u001b[32m   1886\u001b[39m \u001b[43m    \u001b[49m\u001b[43mis_text\u001b[49m\u001b[43m=\u001b[49m\u001b[43mis_text\u001b[49m\u001b[43m,\u001b[49m\n\u001b[32m   1887\u001b[39m \u001b[43m    \u001b[49m\u001b[43merrors\u001b[49m\u001b[43m=\u001b[49m\u001b[38;5;28;43mself\u001b[39;49m\u001b[43m.\u001b[49m\u001b[43moptions\u001b[49m\u001b[43m.\u001b[49m\u001b[43mget\u001b[49m\u001b[43m(\u001b[49m\u001b[33;43m\"\u001b[39;49m\u001b[33;43mencoding_errors\u001b[39;49m\u001b[33;43m\"\u001b[39;49m\u001b[43m,\u001b[49m\u001b[43m \u001b[49m\u001b[33;43m\"\u001b[39;49m\u001b[33;43mstrict\u001b[39;49m\u001b[33;43m\"\u001b[39;49m\u001b[43m)\u001b[49m\u001b[43m,\u001b[49m\n\u001b[32m   1888\u001b[39m \u001b[43m    \u001b[49m\u001b[43mstorage_options\u001b[49m\u001b[43m=\u001b[49m\u001b[38;5;28;43mself\u001b[39;49m\u001b[43m.\u001b[49m\u001b[43moptions\u001b[49m\u001b[43m.\u001b[49m\u001b[43mget\u001b[49m\u001b[43m(\u001b[49m\u001b[33;43m\"\u001b[39;49m\u001b[33;43mstorage_options\u001b[39;49m\u001b[33;43m\"\u001b[39;49m\u001b[43m,\u001b[49m\u001b[43m \u001b[49m\u001b[38;5;28;43;01mNone\u001b[39;49;00m\u001b[43m)\u001b[49m\u001b[43m,\u001b[49m\n\u001b[32m   1889\u001b[39m \u001b[43m\u001b[49m\u001b[43m)\u001b[49m\n\u001b[32m   1890\u001b[39m \u001b[38;5;28;01massert\u001b[39;00m \u001b[38;5;28mself\u001b[39m.handles \u001b[38;5;129;01mis\u001b[39;00m \u001b[38;5;129;01mnot\u001b[39;00m \u001b[38;5;28;01mNone\u001b[39;00m\n\u001b[32m   1891\u001b[39m f = \u001b[38;5;28mself\u001b[39m.handles.handle\n",
      "\u001b[36mFile \u001b[39m\u001b[32m~/AI_Vault/World-climate/.venv/lib/python3.12/site-packages/pandas/io/common.py:873\u001b[39m, in \u001b[36mget_handle\u001b[39m\u001b[34m(path_or_buf, mode, encoding, compression, memory_map, is_text, errors, storage_options)\u001b[39m\n\u001b[32m    868\u001b[39m \u001b[38;5;28;01melif\u001b[39;00m \u001b[38;5;28misinstance\u001b[39m(handle, \u001b[38;5;28mstr\u001b[39m):\n\u001b[32m    869\u001b[39m     \u001b[38;5;66;03m# Check whether the filename is to be opened in binary mode.\u001b[39;00m\n\u001b[32m    870\u001b[39m     \u001b[38;5;66;03m# Binary mode does not support 'encoding' and 'newline'.\u001b[39;00m\n\u001b[32m    871\u001b[39m     \u001b[38;5;28;01mif\u001b[39;00m ioargs.encoding \u001b[38;5;129;01mand\u001b[39;00m \u001b[33m\"\u001b[39m\u001b[33mb\u001b[39m\u001b[33m\"\u001b[39m \u001b[38;5;129;01mnot\u001b[39;00m \u001b[38;5;129;01min\u001b[39;00m ioargs.mode:\n\u001b[32m    872\u001b[39m         \u001b[38;5;66;03m# Encoding\u001b[39;00m\n\u001b[32m--> \u001b[39m\u001b[32m873\u001b[39m         handle = \u001b[38;5;28;43mopen\u001b[39;49m\u001b[43m(\u001b[49m\n\u001b[32m    874\u001b[39m \u001b[43m            \u001b[49m\u001b[43mhandle\u001b[49m\u001b[43m,\u001b[49m\n\u001b[32m    875\u001b[39m \u001b[43m            \u001b[49m\u001b[43mioargs\u001b[49m\u001b[43m.\u001b[49m\u001b[43mmode\u001b[49m\u001b[43m,\u001b[49m\n\u001b[32m    876\u001b[39m \u001b[43m            \u001b[49m\u001b[43mencoding\u001b[49m\u001b[43m=\u001b[49m\u001b[43mioargs\u001b[49m\u001b[43m.\u001b[49m\u001b[43mencoding\u001b[49m\u001b[43m,\u001b[49m\n\u001b[32m    877\u001b[39m \u001b[43m            \u001b[49m\u001b[43merrors\u001b[49m\u001b[43m=\u001b[49m\u001b[43merrors\u001b[49m\u001b[43m,\u001b[49m\n\u001b[32m    878\u001b[39m \u001b[43m            \u001b[49m\u001b[43mnewline\u001b[49m\u001b[43m=\u001b[49m\u001b[33;43m\"\u001b[39;49m\u001b[33;43m\"\u001b[39;49m\u001b[43m,\u001b[49m\n\u001b[32m    879\u001b[39m \u001b[43m        \u001b[49m\u001b[43m)\u001b[49m\n\u001b[32m    880\u001b[39m     \u001b[38;5;28;01melse\u001b[39;00m:\n\u001b[32m    881\u001b[39m         \u001b[38;5;66;03m# Binary mode\u001b[39;00m\n\u001b[32m    882\u001b[39m         handle = \u001b[38;5;28mopen\u001b[39m(handle, ioargs.mode)\n",
      "\u001b[31mFileNotFoundError\u001b[39m: [Errno 2] No such file or directory: 'co2_emissions_cleaned.csv'"
     ]
    }
   ],
   "source": [
    "import pandas as pd\n",
    "\n",
    "df_cleaned = pd.read_csv(\"co2_emissions_cleaned.csv\")\n",
    "plot_data_distribution(df_cleaned, \"Emissions\", \"visualizations/data_distribution.png\")\n"
   ]
  },
  {
   "cell_type": "code",
   "execution_count": 15,
   "id": "8b1a9479",
   "metadata": {},
   "outputs": [
    {
     "ename": "FileNotFoundError",
     "evalue": "[Errno 2] No such file or directory: 'data/co2_emissions_cleaned.csv'",
     "output_type": "error",
     "traceback": [
      "\u001b[31m---------------------------------------------------------------------------\u001b[39m",
      "\u001b[31mFileNotFoundError\u001b[39m                         Traceback (most recent call last)",
      "\u001b[36mCell\u001b[39m\u001b[36m \u001b[39m\u001b[32mIn[15]\u001b[39m\u001b[32m, line 5\u001b[39m\n\u001b[32m      2\u001b[39m \u001b[38;5;28;01mfrom\u001b[39;00m\u001b[38;5;250m \u001b[39m\u001b[34;01msrc\u001b[39;00m\u001b[34;01m.\u001b[39;00m\u001b[34;01mvisualization\u001b[39;00m\u001b[38;5;250m \u001b[39m\u001b[38;5;28;01mimport\u001b[39;00m plot_data_distribution\n\u001b[32m      4\u001b[39m \u001b[38;5;66;03m# Corrected file path\u001b[39;00m\n\u001b[32m----> \u001b[39m\u001b[32m5\u001b[39m df_cleaned = \u001b[43mpd\u001b[49m\u001b[43m.\u001b[49m\u001b[43mread_csv\u001b[49m\u001b[43m(\u001b[49m\u001b[33;43m\"\u001b[39;49m\u001b[33;43mdata/co2_emissions_cleaned.csv\u001b[39;49m\u001b[33;43m\"\u001b[39;49m\u001b[43m)\u001b[49m\n\u001b[32m      7\u001b[39m \u001b[38;5;66;03m# Plot and save the distribution\u001b[39;00m\n\u001b[32m      8\u001b[39m plot_data_distribution(df_cleaned, \u001b[33m\"\u001b[39m\u001b[33mEmissions\u001b[39m\u001b[33m\"\u001b[39m, \u001b[33m\"\u001b[39m\u001b[33mvisualizations/data_distribution.png\u001b[39m\u001b[33m\"\u001b[39m)\n",
      "\u001b[36mFile \u001b[39m\u001b[32m~/AI_Vault/World-climate/.venv/lib/python3.12/site-packages/pandas/io/parsers/readers.py:1026\u001b[39m, in \u001b[36mread_csv\u001b[39m\u001b[34m(filepath_or_buffer, sep, delimiter, header, names, index_col, usecols, dtype, engine, converters, true_values, false_values, skipinitialspace, skiprows, skipfooter, nrows, na_values, keep_default_na, na_filter, verbose, skip_blank_lines, parse_dates, infer_datetime_format, keep_date_col, date_parser, date_format, dayfirst, cache_dates, iterator, chunksize, compression, thousands, decimal, lineterminator, quotechar, quoting, doublequote, escapechar, comment, encoding, encoding_errors, dialect, on_bad_lines, delim_whitespace, low_memory, memory_map, float_precision, storage_options, dtype_backend)\u001b[39m\n\u001b[32m   1013\u001b[39m kwds_defaults = _refine_defaults_read(\n\u001b[32m   1014\u001b[39m     dialect,\n\u001b[32m   1015\u001b[39m     delimiter,\n\u001b[32m   (...)\u001b[39m\u001b[32m   1022\u001b[39m     dtype_backend=dtype_backend,\n\u001b[32m   1023\u001b[39m )\n\u001b[32m   1024\u001b[39m kwds.update(kwds_defaults)\n\u001b[32m-> \u001b[39m\u001b[32m1026\u001b[39m \u001b[38;5;28;01mreturn\u001b[39;00m \u001b[43m_read\u001b[49m\u001b[43m(\u001b[49m\u001b[43mfilepath_or_buffer\u001b[49m\u001b[43m,\u001b[49m\u001b[43m \u001b[49m\u001b[43mkwds\u001b[49m\u001b[43m)\u001b[49m\n",
      "\u001b[36mFile \u001b[39m\u001b[32m~/AI_Vault/World-climate/.venv/lib/python3.12/site-packages/pandas/io/parsers/readers.py:620\u001b[39m, in \u001b[36m_read\u001b[39m\u001b[34m(filepath_or_buffer, kwds)\u001b[39m\n\u001b[32m    617\u001b[39m _validate_names(kwds.get(\u001b[33m\"\u001b[39m\u001b[33mnames\u001b[39m\u001b[33m\"\u001b[39m, \u001b[38;5;28;01mNone\u001b[39;00m))\n\u001b[32m    619\u001b[39m \u001b[38;5;66;03m# Create the parser.\u001b[39;00m\n\u001b[32m--> \u001b[39m\u001b[32m620\u001b[39m parser = \u001b[43mTextFileReader\u001b[49m\u001b[43m(\u001b[49m\u001b[43mfilepath_or_buffer\u001b[49m\u001b[43m,\u001b[49m\u001b[43m \u001b[49m\u001b[43m*\u001b[49m\u001b[43m*\u001b[49m\u001b[43mkwds\u001b[49m\u001b[43m)\u001b[49m\n\u001b[32m    622\u001b[39m \u001b[38;5;28;01mif\u001b[39;00m chunksize \u001b[38;5;129;01mor\u001b[39;00m iterator:\n\u001b[32m    623\u001b[39m     \u001b[38;5;28;01mreturn\u001b[39;00m parser\n",
      "\u001b[36mFile \u001b[39m\u001b[32m~/AI_Vault/World-climate/.venv/lib/python3.12/site-packages/pandas/io/parsers/readers.py:1620\u001b[39m, in \u001b[36mTextFileReader.__init__\u001b[39m\u001b[34m(self, f, engine, **kwds)\u001b[39m\n\u001b[32m   1617\u001b[39m     \u001b[38;5;28mself\u001b[39m.options[\u001b[33m\"\u001b[39m\u001b[33mhas_index_names\u001b[39m\u001b[33m\"\u001b[39m] = kwds[\u001b[33m\"\u001b[39m\u001b[33mhas_index_names\u001b[39m\u001b[33m\"\u001b[39m]\n\u001b[32m   1619\u001b[39m \u001b[38;5;28mself\u001b[39m.handles: IOHandles | \u001b[38;5;28;01mNone\u001b[39;00m = \u001b[38;5;28;01mNone\u001b[39;00m\n\u001b[32m-> \u001b[39m\u001b[32m1620\u001b[39m \u001b[38;5;28mself\u001b[39m._engine = \u001b[38;5;28;43mself\u001b[39;49m\u001b[43m.\u001b[49m\u001b[43m_make_engine\u001b[49m\u001b[43m(\u001b[49m\u001b[43mf\u001b[49m\u001b[43m,\u001b[49m\u001b[43m \u001b[49m\u001b[38;5;28;43mself\u001b[39;49m\u001b[43m.\u001b[49m\u001b[43mengine\u001b[49m\u001b[43m)\u001b[49m\n",
      "\u001b[36mFile \u001b[39m\u001b[32m~/AI_Vault/World-climate/.venv/lib/python3.12/site-packages/pandas/io/parsers/readers.py:1880\u001b[39m, in \u001b[36mTextFileReader._make_engine\u001b[39m\u001b[34m(self, f, engine)\u001b[39m\n\u001b[32m   1878\u001b[39m     \u001b[38;5;28;01mif\u001b[39;00m \u001b[33m\"\u001b[39m\u001b[33mb\u001b[39m\u001b[33m\"\u001b[39m \u001b[38;5;129;01mnot\u001b[39;00m \u001b[38;5;129;01min\u001b[39;00m mode:\n\u001b[32m   1879\u001b[39m         mode += \u001b[33m\"\u001b[39m\u001b[33mb\u001b[39m\u001b[33m\"\u001b[39m\n\u001b[32m-> \u001b[39m\u001b[32m1880\u001b[39m \u001b[38;5;28mself\u001b[39m.handles = \u001b[43mget_handle\u001b[49m\u001b[43m(\u001b[49m\n\u001b[32m   1881\u001b[39m \u001b[43m    \u001b[49m\u001b[43mf\u001b[49m\u001b[43m,\u001b[49m\n\u001b[32m   1882\u001b[39m \u001b[43m    \u001b[49m\u001b[43mmode\u001b[49m\u001b[43m,\u001b[49m\n\u001b[32m   1883\u001b[39m \u001b[43m    \u001b[49m\u001b[43mencoding\u001b[49m\u001b[43m=\u001b[49m\u001b[38;5;28;43mself\u001b[39;49m\u001b[43m.\u001b[49m\u001b[43moptions\u001b[49m\u001b[43m.\u001b[49m\u001b[43mget\u001b[49m\u001b[43m(\u001b[49m\u001b[33;43m\"\u001b[39;49m\u001b[33;43mencoding\u001b[39;49m\u001b[33;43m\"\u001b[39;49m\u001b[43m,\u001b[49m\u001b[43m \u001b[49m\u001b[38;5;28;43;01mNone\u001b[39;49;00m\u001b[43m)\u001b[49m\u001b[43m,\u001b[49m\n\u001b[32m   1884\u001b[39m \u001b[43m    \u001b[49m\u001b[43mcompression\u001b[49m\u001b[43m=\u001b[49m\u001b[38;5;28;43mself\u001b[39;49m\u001b[43m.\u001b[49m\u001b[43moptions\u001b[49m\u001b[43m.\u001b[49m\u001b[43mget\u001b[49m\u001b[43m(\u001b[49m\u001b[33;43m\"\u001b[39;49m\u001b[33;43mcompression\u001b[39;49m\u001b[33;43m\"\u001b[39;49m\u001b[43m,\u001b[49m\u001b[43m \u001b[49m\u001b[38;5;28;43;01mNone\u001b[39;49;00m\u001b[43m)\u001b[49m\u001b[43m,\u001b[49m\n\u001b[32m   1885\u001b[39m \u001b[43m    \u001b[49m\u001b[43mmemory_map\u001b[49m\u001b[43m=\u001b[49m\u001b[38;5;28;43mself\u001b[39;49m\u001b[43m.\u001b[49m\u001b[43moptions\u001b[49m\u001b[43m.\u001b[49m\u001b[43mget\u001b[49m\u001b[43m(\u001b[49m\u001b[33;43m\"\u001b[39;49m\u001b[33;43mmemory_map\u001b[39;49m\u001b[33;43m\"\u001b[39;49m\u001b[43m,\u001b[49m\u001b[43m \u001b[49m\u001b[38;5;28;43;01mFalse\u001b[39;49;00m\u001b[43m)\u001b[49m\u001b[43m,\u001b[49m\n\u001b[32m   1886\u001b[39m \u001b[43m    \u001b[49m\u001b[43mis_text\u001b[49m\u001b[43m=\u001b[49m\u001b[43mis_text\u001b[49m\u001b[43m,\u001b[49m\n\u001b[32m   1887\u001b[39m \u001b[43m    \u001b[49m\u001b[43merrors\u001b[49m\u001b[43m=\u001b[49m\u001b[38;5;28;43mself\u001b[39;49m\u001b[43m.\u001b[49m\u001b[43moptions\u001b[49m\u001b[43m.\u001b[49m\u001b[43mget\u001b[49m\u001b[43m(\u001b[49m\u001b[33;43m\"\u001b[39;49m\u001b[33;43mencoding_errors\u001b[39;49m\u001b[33;43m\"\u001b[39;49m\u001b[43m,\u001b[49m\u001b[43m \u001b[49m\u001b[33;43m\"\u001b[39;49m\u001b[33;43mstrict\u001b[39;49m\u001b[33;43m\"\u001b[39;49m\u001b[43m)\u001b[49m\u001b[43m,\u001b[49m\n\u001b[32m   1888\u001b[39m \u001b[43m    \u001b[49m\u001b[43mstorage_options\u001b[49m\u001b[43m=\u001b[49m\u001b[38;5;28;43mself\u001b[39;49m\u001b[43m.\u001b[49m\u001b[43moptions\u001b[49m\u001b[43m.\u001b[49m\u001b[43mget\u001b[49m\u001b[43m(\u001b[49m\u001b[33;43m\"\u001b[39;49m\u001b[33;43mstorage_options\u001b[39;49m\u001b[33;43m\"\u001b[39;49m\u001b[43m,\u001b[49m\u001b[43m \u001b[49m\u001b[38;5;28;43;01mNone\u001b[39;49;00m\u001b[43m)\u001b[49m\u001b[43m,\u001b[49m\n\u001b[32m   1889\u001b[39m \u001b[43m\u001b[49m\u001b[43m)\u001b[49m\n\u001b[32m   1890\u001b[39m \u001b[38;5;28;01massert\u001b[39;00m \u001b[38;5;28mself\u001b[39m.handles \u001b[38;5;129;01mis\u001b[39;00m \u001b[38;5;129;01mnot\u001b[39;00m \u001b[38;5;28;01mNone\u001b[39;00m\n\u001b[32m   1891\u001b[39m f = \u001b[38;5;28mself\u001b[39m.handles.handle\n",
      "\u001b[36mFile \u001b[39m\u001b[32m~/AI_Vault/World-climate/.venv/lib/python3.12/site-packages/pandas/io/common.py:873\u001b[39m, in \u001b[36mget_handle\u001b[39m\u001b[34m(path_or_buf, mode, encoding, compression, memory_map, is_text, errors, storage_options)\u001b[39m\n\u001b[32m    868\u001b[39m \u001b[38;5;28;01melif\u001b[39;00m \u001b[38;5;28misinstance\u001b[39m(handle, \u001b[38;5;28mstr\u001b[39m):\n\u001b[32m    869\u001b[39m     \u001b[38;5;66;03m# Check whether the filename is to be opened in binary mode.\u001b[39;00m\n\u001b[32m    870\u001b[39m     \u001b[38;5;66;03m# Binary mode does not support 'encoding' and 'newline'.\u001b[39;00m\n\u001b[32m    871\u001b[39m     \u001b[38;5;28;01mif\u001b[39;00m ioargs.encoding \u001b[38;5;129;01mand\u001b[39;00m \u001b[33m\"\u001b[39m\u001b[33mb\u001b[39m\u001b[33m\"\u001b[39m \u001b[38;5;129;01mnot\u001b[39;00m \u001b[38;5;129;01min\u001b[39;00m ioargs.mode:\n\u001b[32m    872\u001b[39m         \u001b[38;5;66;03m# Encoding\u001b[39;00m\n\u001b[32m--> \u001b[39m\u001b[32m873\u001b[39m         handle = \u001b[38;5;28;43mopen\u001b[39;49m\u001b[43m(\u001b[49m\n\u001b[32m    874\u001b[39m \u001b[43m            \u001b[49m\u001b[43mhandle\u001b[49m\u001b[43m,\u001b[49m\n\u001b[32m    875\u001b[39m \u001b[43m            \u001b[49m\u001b[43mioargs\u001b[49m\u001b[43m.\u001b[49m\u001b[43mmode\u001b[49m\u001b[43m,\u001b[49m\n\u001b[32m    876\u001b[39m \u001b[43m            \u001b[49m\u001b[43mencoding\u001b[49m\u001b[43m=\u001b[49m\u001b[43mioargs\u001b[49m\u001b[43m.\u001b[49m\u001b[43mencoding\u001b[49m\u001b[43m,\u001b[49m\n\u001b[32m    877\u001b[39m \u001b[43m            \u001b[49m\u001b[43merrors\u001b[49m\u001b[43m=\u001b[49m\u001b[43merrors\u001b[49m\u001b[43m,\u001b[49m\n\u001b[32m    878\u001b[39m \u001b[43m            \u001b[49m\u001b[43mnewline\u001b[49m\u001b[43m=\u001b[49m\u001b[33;43m\"\u001b[39;49m\u001b[33;43m\"\u001b[39;49m\u001b[43m,\u001b[49m\n\u001b[32m    879\u001b[39m \u001b[43m        \u001b[49m\u001b[43m)\u001b[49m\n\u001b[32m    880\u001b[39m     \u001b[38;5;28;01melse\u001b[39;00m:\n\u001b[32m    881\u001b[39m         \u001b[38;5;66;03m# Binary mode\u001b[39;00m\n\u001b[32m    882\u001b[39m         handle = \u001b[38;5;28mopen\u001b[39m(handle, ioargs.mode)\n",
      "\u001b[31mFileNotFoundError\u001b[39m: [Errno 2] No such file or directory: 'data/co2_emissions_cleaned.csv'"
     ]
    }
   ],
   "source": [
    "import pandas as pd\n",
    "from src.visualization import plot_data_distribution\n",
    "\n",
    "# Corrected file path\n",
    "df_cleaned = pd.read_csv(\"data/co2_emissions_cleaned.csv\")\n",
    "\n",
    "# Plot and save the distribution\n",
    "plot_data_distribution(df_cleaned, \"Emissions\", \"visualizations/data_distribution.png\")\n"
   ]
  },
  {
   "cell_type": "code",
   "execution_count": 16,
   "id": "75d03e49",
   "metadata": {},
   "outputs": [],
   "source": [
    "import pandas as pd\n",
    "from src.visualization import plot_data_distribution\n",
    "\n",
    "# Corrected file path\n",
    "df_cleaned = pd.read_csv(\"Data/co2_emissions_cleaned.csv\")\n",
    "\n",
    "# Plot and save the distribution\n",
    "plot_data_distribution(df_cleaned, \"Emissions\", \"visualizations/data_distribution.png\")\n"
   ]
  },
  {
   "cell_type": "code",
   "execution_count": 17,
   "id": "03cc8f36",
   "metadata": {},
   "outputs": [
    {
     "ename": "ImportError",
     "evalue": "cannot import name 'plot_emissions_over_time' from 'src.visualization' (/home/crystal/AI_Vault/World-climate/src/visualization.py)",
     "output_type": "error",
     "traceback": [
      "\u001b[31m---------------------------------------------------------------------------\u001b[39m",
      "\u001b[31mImportError\u001b[39m                               Traceback (most recent call last)",
      "\u001b[36mCell\u001b[39m\u001b[36m \u001b[39m\u001b[32mIn[17]\u001b[39m\u001b[32m, line 1\u001b[39m\n\u001b[32m----> \u001b[39m\u001b[32m1\u001b[39m \u001b[38;5;28;01mfrom\u001b[39;00m\u001b[38;5;250m \u001b[39m\u001b[34;01msrc\u001b[39;00m\u001b[34;01m.\u001b[39;00m\u001b[34;01mvisualization\u001b[39;00m\u001b[38;5;250m \u001b[39m\u001b[38;5;28;01mimport\u001b[39;00m plot_emissions_over_time\n\u001b[32m      3\u001b[39m df_cleaned = pd.read_csv(\u001b[33m\"\u001b[39m\u001b[33mdata/co2_emissions_cleaned.csv\u001b[39m\u001b[33m\"\u001b[39m)\n\u001b[32m      4\u001b[39m plot_emissions_over_time(df_cleaned, \u001b[33m\"\u001b[39m\u001b[33mvisualizations/emissions_over_time.png\u001b[39m\u001b[33m\"\u001b[39m)\n",
      "\u001b[31mImportError\u001b[39m: cannot import name 'plot_emissions_over_time' from 'src.visualization' (/home/crystal/AI_Vault/World-climate/src/visualization.py)"
     ]
    }
   ],
   "source": [
    "from src.visualization import plot_emissions_over_time\n",
    "\n",
    "df_cleaned = pd.read_csv(\"data/co2_emissions_cleaned.csv\")\n",
    "plot_emissions_over_time(df_cleaned, \"visualizations/emissions_over_time.png\")\n"
   ]
  },
  {
   "cell_type": "code",
   "execution_count": 1,
   "id": "0a0f6768",
   "metadata": {},
   "outputs": [
    {
     "name": "stdout",
     "output_type": "stream",
     "text": [
      "/home/crystal/AI_Vault/World-climate/Data\n"
     ]
    }
   ],
   "source": [
    "import os\n",
    "print(os.getcwd())"
   ]
  },
  {
   "cell_type": "code",
   "execution_count": 2,
   "id": "68ccf30c",
   "metadata": {},
   "outputs": [
    {
     "name": "stdout",
     "output_type": "stream",
     "text": [
      "Now in: /home/crystal/AI_Vault/World-climate\n"
     ]
    }
   ],
   "source": [
    "import os\n",
    "os.chdir(\"..\") \n",
    "print(\"Now in:\", os.getcwd())"
   ]
  },
  {
   "cell_type": "code",
   "execution_count": 3,
   "id": "ef8efc83",
   "metadata": {},
   "outputs": [],
   "source": [
    "import sys\n",
    "from pathlib import Path\n",
    "\n",
    "project_root = Path().resolve()\n",
    "if str(project_root) not in sys.path:\n",
    "    sys.path.append(str(project_root))\n",
    "\n",
    "from src.data_preprocessing import load_data, clean_data\n",
    "from src.model_training import prepare_features, split_data"
   ]
  },
  {
   "cell_type": "code",
   "execution_count": 4,
   "id": "6b47766a",
   "metadata": {
    "scrolled": true
   },
   "outputs": [
    {
     "data": {
      "text/html": [
       "<div>\n",
       "<style scoped>\n",
       "    .dataframe tbody tr th:only-of-type {\n",
       "        vertical-align: middle;\n",
       "    }\n",
       "\n",
       "    .dataframe tbody tr th {\n",
       "        vertical-align: top;\n",
       "    }\n",
       "\n",
       "    .dataframe thead th {\n",
       "        text-align: right;\n",
       "    }\n",
       "</style>\n",
       "<table border=\"1\" class=\"dataframe\">\n",
       "  <thead>\n",
       "    <tr style=\"text-align: right;\">\n",
       "      <th></th>\n",
       "      <th>Country</th>\n",
       "      <th>Data source</th>\n",
       "      <th>Sector</th>\n",
       "      <th>Gas</th>\n",
       "      <th>Unit</th>\n",
       "      <th>Year</th>\n",
       "      <th>Emissions</th>\n",
       "    </tr>\n",
       "  </thead>\n",
       "  <tbody>\n",
       "    <tr>\n",
       "      <th>0</th>\n",
       "      <td>World</td>\n",
       "      <td>CAIT</td>\n",
       "      <td>Total including LUCF</td>\n",
       "      <td>CO2</td>\n",
       "      <td>MtCO₂e</td>\n",
       "      <td>2018</td>\n",
       "      <td>36441.55</td>\n",
       "    </tr>\n",
       "    <tr>\n",
       "      <th>1</th>\n",
       "      <td>China</td>\n",
       "      <td>CAIT</td>\n",
       "      <td>Total including LUCF</td>\n",
       "      <td>CO2</td>\n",
       "      <td>MtCO₂e</td>\n",
       "      <td>2018</td>\n",
       "      <td>9663.36</td>\n",
       "    </tr>\n",
       "    <tr>\n",
       "      <th>2</th>\n",
       "      <td>United States</td>\n",
       "      <td>CAIT</td>\n",
       "      <td>Total including LUCF</td>\n",
       "      <td>CO2</td>\n",
       "      <td>MtCO₂e</td>\n",
       "      <td>2018</td>\n",
       "      <td>4749.57</td>\n",
       "    </tr>\n",
       "    <tr>\n",
       "      <th>3</th>\n",
       "      <td>European Union (27)</td>\n",
       "      <td>CAIT</td>\n",
       "      <td>Total including LUCF</td>\n",
       "      <td>CO2</td>\n",
       "      <td>MtCO₂e</td>\n",
       "      <td>2018</td>\n",
       "      <td>2636.99</td>\n",
       "    </tr>\n",
       "    <tr>\n",
       "      <th>4</th>\n",
       "      <td>India</td>\n",
       "      <td>CAIT</td>\n",
       "      <td>Total including LUCF</td>\n",
       "      <td>CO2</td>\n",
       "      <td>MtCO₂e</td>\n",
       "      <td>2018</td>\n",
       "      <td>2400.25</td>\n",
       "    </tr>\n",
       "  </tbody>\n",
       "</table>\n",
       "</div>"
      ],
      "text/plain": [
       "               Country Data source                Sector  Gas    Unit  Year  \\\n",
       "0                World        CAIT  Total including LUCF  CO2  MtCO₂e  2018   \n",
       "1                China        CAIT  Total including LUCF  CO2  MtCO₂e  2018   \n",
       "2        United States        CAIT  Total including LUCF  CO2  MtCO₂e  2018   \n",
       "3  European Union (27)        CAIT  Total including LUCF  CO2  MtCO₂e  2018   \n",
       "4                India        CAIT  Total including LUCF  CO2  MtCO₂e  2018   \n",
       "\n",
       "   Emissions  \n",
       "0   36441.55  \n",
       "1    9663.36  \n",
       "2    4749.57  \n",
       "3    2636.99  \n",
       "4    2400.25  "
      ]
     },
     "execution_count": 4,
     "metadata": {},
     "output_type": "execute_result"
    }
   ],
   "source": [
    "df = load_data('historical_emissions.csv')  # or 'data/historical_emissions.csv' depending on where the file is\n",
    "df_clean = clean_data(df)\n",
    "df_clean.head()"
   ]
  },
  {
   "cell_type": "code",
   "execution_count": 5,
   "id": "831c0cbc",
   "metadata": {},
   "outputs": [],
   "source": [
    "df = load_data('historical_emissions.csv')\n",
    "df_clean = clean_data(df)\n",
    "\n",
    "X, y = prepare_features(df_clean)\n",
    "X_train, X_test, y_train, y_test = split_data(X, y)"
   ]
  },
  {
   "cell_type": "code",
   "execution_count": 6,
   "id": "fbc67845",
   "metadata": {},
   "outputs": [
    {
     "name": "stdout",
     "output_type": "stream",
     "text": [
      "Model training complete.\n"
     ]
    }
   ],
   "source": [
    "from src.model_training import train_model\n",
    "\n",
    "model = train_model(X_train, y_train)\n",
    "print(\"Model training complete.\")\n"
   ]
  },
  {
   "cell_type": "code",
   "execution_count": 7,
   "id": "35fbc030",
   "metadata": {},
   "outputs": [
    {
     "name": "stdout",
     "output_type": "stream",
     "text": [
      "Model evaluation complete.\n",
      "Mean Squared Error (MSE): 126690.08\n",
      "R² Score: 0.97\n"
     ]
    }
   ],
   "source": [
    "from sklearn.metrics import mean_squared_error, r2_score\n",
    "\n",
    "# Predict on the test set\n",
    "y_pred = model.predict(X_test)\n",
    "\n",
    "# Evaluate performance\n",
    "mse = mean_squared_error(y_test, y_pred)\n",
    "r2 = r2_score(y_test, y_pred)\n",
    "\n",
    "print(f\"Model evaluation complete.\")\n",
    "print(f\"Mean Squared Error (MSE): {mse:.2f}\")\n",
    "print(f\"R² Score: {r2:.2f}\")\n"
   ]
  },
  {
   "cell_type": "code",
   "execution_count": 8,
   "id": "e0517aae",
   "metadata": {},
   "outputs": [],
   "source": [
    "from src.model_training import save_model\n",
    "\n",
    "# Save the trained model to models/linear_regression_model.pkl\n",
    "save_model(model, \"models/linear_regression_model.pkl\")"
   ]
  },
  {
   "cell_type": "code",
   "execution_count": 9,
   "id": "6aadb331",
   "metadata": {},
   "outputs": [
    {
     "name": "stdout",
     "output_type": "stream",
     "text": [
      "{'r2_score': 0.9707789148032696, 'rmse': np.float64(355.93549704042033)}\n"
     ]
    }
   ],
   "source": [
    "from src.model_training import evaluate_model\n",
    "\n",
    "metrics = evaluate_model(model, X_test, y_test, \"models/model_metrics.json\")\n",
    "print(metrics)"
   ]
  },
  {
   "cell_type": "code",
   "execution_count": 10,
   "id": "a649e474",
   "metadata": {},
   "outputs": [],
   "source": [
    "from src.visualization import plot_actual_vs_predicted\n",
    "\n",
    "# Predict using your model\n",
    "y_pred = model.predict(X_test)\n",
    "\n",
    "# Generate and save the plot\n",
    "plot_actual_vs_predicted(y_test, y_pred, \"visualizations/actual_vs_predicted.png\")"
   ]
  },
  {
   "cell_type": "code",
   "execution_count": 11,
   "id": "dd49fee8",
   "metadata": {},
   "outputs": [],
   "source": [
    "from src.visualization import plot_correlation_heatmap\n",
    "\n",
    "# Use your one-hot encoded features (X)\n",
    "plot_correlation_heatmap(X, \"visualizations/correlation_heatmap.png\")"
   ]
  },
  {
   "cell_type": "code",
   "execution_count": 12,
   "id": "98812f14",
   "metadata": {},
   "outputs": [],
   "source": [
    "from src.visualization import plot_data_distribution"
   ]
  },
  {
   "cell_type": "code",
   "execution_count": 13,
   "id": "814593ea",
   "metadata": {},
   "outputs": [],
   "source": [
    "import pandas as pd\n",
    "from src.visualization import plot_data_distribution\n",
    "\n",
    "# Corrected file path\n",
    "df_cleaned = pd.read_csv(\"Data/co2_emissions_cleaned.csv\")\n",
    "\n",
    "# Plot and save the distribution\n",
    "plot_data_distribution(df_cleaned, \"Emissions\", \"visualizations/data_distribution.png\")"
   ]
  },
  {
   "cell_type": "code",
   "execution_count": 14,
   "id": "6442527a",
   "metadata": {},
   "outputs": [
    {
     "ename": "FileNotFoundError",
     "evalue": "[Errno 2] No such file or directory: 'data/co2_emissions_cleaned.csv'",
     "output_type": "error",
     "traceback": [
      "\u001b[31m---------------------------------------------------------------------------\u001b[39m",
      "\u001b[31mFileNotFoundError\u001b[39m                         Traceback (most recent call last)",
      "\u001b[36mCell\u001b[39m\u001b[36m \u001b[39m\u001b[32mIn[14]\u001b[39m\u001b[32m, line 3\u001b[39m\n\u001b[32m      1\u001b[39m \u001b[38;5;28;01mfrom\u001b[39;00m\u001b[38;5;250m \u001b[39m\u001b[34;01msrc\u001b[39;00m\u001b[34;01m.\u001b[39;00m\u001b[34;01mvisualization\u001b[39;00m\u001b[38;5;250m \u001b[39m\u001b[38;5;28;01mimport\u001b[39;00m plot_emissions_over_time\n\u001b[32m----> \u001b[39m\u001b[32m3\u001b[39m df_cleaned = \u001b[43mpd\u001b[49m\u001b[43m.\u001b[49m\u001b[43mread_csv\u001b[49m\u001b[43m(\u001b[49m\u001b[33;43m\"\u001b[39;49m\u001b[33;43mdata/co2_emissions_cleaned.csv\u001b[39;49m\u001b[33;43m\"\u001b[39;49m\u001b[43m)\u001b[49m\n\u001b[32m      4\u001b[39m plot_emissions_over_time(df_cleaned, \u001b[33m\"\u001b[39m\u001b[33mvisualizations/emissions_over_time.png\u001b[39m\u001b[33m\"\u001b[39m)\n",
      "\u001b[36mFile \u001b[39m\u001b[32m~/AI_Vault/World-climate/.venv/lib/python3.12/site-packages/pandas/io/parsers/readers.py:1026\u001b[39m, in \u001b[36mread_csv\u001b[39m\u001b[34m(filepath_or_buffer, sep, delimiter, header, names, index_col, usecols, dtype, engine, converters, true_values, false_values, skipinitialspace, skiprows, skipfooter, nrows, na_values, keep_default_na, na_filter, verbose, skip_blank_lines, parse_dates, infer_datetime_format, keep_date_col, date_parser, date_format, dayfirst, cache_dates, iterator, chunksize, compression, thousands, decimal, lineterminator, quotechar, quoting, doublequote, escapechar, comment, encoding, encoding_errors, dialect, on_bad_lines, delim_whitespace, low_memory, memory_map, float_precision, storage_options, dtype_backend)\u001b[39m\n\u001b[32m   1013\u001b[39m kwds_defaults = _refine_defaults_read(\n\u001b[32m   1014\u001b[39m     dialect,\n\u001b[32m   1015\u001b[39m     delimiter,\n\u001b[32m   (...)\u001b[39m\u001b[32m   1022\u001b[39m     dtype_backend=dtype_backend,\n\u001b[32m   1023\u001b[39m )\n\u001b[32m   1024\u001b[39m kwds.update(kwds_defaults)\n\u001b[32m-> \u001b[39m\u001b[32m1026\u001b[39m \u001b[38;5;28;01mreturn\u001b[39;00m \u001b[43m_read\u001b[49m\u001b[43m(\u001b[49m\u001b[43mfilepath_or_buffer\u001b[49m\u001b[43m,\u001b[49m\u001b[43m \u001b[49m\u001b[43mkwds\u001b[49m\u001b[43m)\u001b[49m\n",
      "\u001b[36mFile \u001b[39m\u001b[32m~/AI_Vault/World-climate/.venv/lib/python3.12/site-packages/pandas/io/parsers/readers.py:620\u001b[39m, in \u001b[36m_read\u001b[39m\u001b[34m(filepath_or_buffer, kwds)\u001b[39m\n\u001b[32m    617\u001b[39m _validate_names(kwds.get(\u001b[33m\"\u001b[39m\u001b[33mnames\u001b[39m\u001b[33m\"\u001b[39m, \u001b[38;5;28;01mNone\u001b[39;00m))\n\u001b[32m    619\u001b[39m \u001b[38;5;66;03m# Create the parser.\u001b[39;00m\n\u001b[32m--> \u001b[39m\u001b[32m620\u001b[39m parser = \u001b[43mTextFileReader\u001b[49m\u001b[43m(\u001b[49m\u001b[43mfilepath_or_buffer\u001b[49m\u001b[43m,\u001b[49m\u001b[43m \u001b[49m\u001b[43m*\u001b[49m\u001b[43m*\u001b[49m\u001b[43mkwds\u001b[49m\u001b[43m)\u001b[49m\n\u001b[32m    622\u001b[39m \u001b[38;5;28;01mif\u001b[39;00m chunksize \u001b[38;5;129;01mor\u001b[39;00m iterator:\n\u001b[32m    623\u001b[39m     \u001b[38;5;28;01mreturn\u001b[39;00m parser\n",
      "\u001b[36mFile \u001b[39m\u001b[32m~/AI_Vault/World-climate/.venv/lib/python3.12/site-packages/pandas/io/parsers/readers.py:1620\u001b[39m, in \u001b[36mTextFileReader.__init__\u001b[39m\u001b[34m(self, f, engine, **kwds)\u001b[39m\n\u001b[32m   1617\u001b[39m     \u001b[38;5;28mself\u001b[39m.options[\u001b[33m\"\u001b[39m\u001b[33mhas_index_names\u001b[39m\u001b[33m\"\u001b[39m] = kwds[\u001b[33m\"\u001b[39m\u001b[33mhas_index_names\u001b[39m\u001b[33m\"\u001b[39m]\n\u001b[32m   1619\u001b[39m \u001b[38;5;28mself\u001b[39m.handles: IOHandles | \u001b[38;5;28;01mNone\u001b[39;00m = \u001b[38;5;28;01mNone\u001b[39;00m\n\u001b[32m-> \u001b[39m\u001b[32m1620\u001b[39m \u001b[38;5;28mself\u001b[39m._engine = \u001b[38;5;28;43mself\u001b[39;49m\u001b[43m.\u001b[49m\u001b[43m_make_engine\u001b[49m\u001b[43m(\u001b[49m\u001b[43mf\u001b[49m\u001b[43m,\u001b[49m\u001b[43m \u001b[49m\u001b[38;5;28;43mself\u001b[39;49m\u001b[43m.\u001b[49m\u001b[43mengine\u001b[49m\u001b[43m)\u001b[49m\n",
      "\u001b[36mFile \u001b[39m\u001b[32m~/AI_Vault/World-climate/.venv/lib/python3.12/site-packages/pandas/io/parsers/readers.py:1880\u001b[39m, in \u001b[36mTextFileReader._make_engine\u001b[39m\u001b[34m(self, f, engine)\u001b[39m\n\u001b[32m   1878\u001b[39m     \u001b[38;5;28;01mif\u001b[39;00m \u001b[33m\"\u001b[39m\u001b[33mb\u001b[39m\u001b[33m\"\u001b[39m \u001b[38;5;129;01mnot\u001b[39;00m \u001b[38;5;129;01min\u001b[39;00m mode:\n\u001b[32m   1879\u001b[39m         mode += \u001b[33m\"\u001b[39m\u001b[33mb\u001b[39m\u001b[33m\"\u001b[39m\n\u001b[32m-> \u001b[39m\u001b[32m1880\u001b[39m \u001b[38;5;28mself\u001b[39m.handles = \u001b[43mget_handle\u001b[49m\u001b[43m(\u001b[49m\n\u001b[32m   1881\u001b[39m \u001b[43m    \u001b[49m\u001b[43mf\u001b[49m\u001b[43m,\u001b[49m\n\u001b[32m   1882\u001b[39m \u001b[43m    \u001b[49m\u001b[43mmode\u001b[49m\u001b[43m,\u001b[49m\n\u001b[32m   1883\u001b[39m \u001b[43m    \u001b[49m\u001b[43mencoding\u001b[49m\u001b[43m=\u001b[49m\u001b[38;5;28;43mself\u001b[39;49m\u001b[43m.\u001b[49m\u001b[43moptions\u001b[49m\u001b[43m.\u001b[49m\u001b[43mget\u001b[49m\u001b[43m(\u001b[49m\u001b[33;43m\"\u001b[39;49m\u001b[33;43mencoding\u001b[39;49m\u001b[33;43m\"\u001b[39;49m\u001b[43m,\u001b[49m\u001b[43m \u001b[49m\u001b[38;5;28;43;01mNone\u001b[39;49;00m\u001b[43m)\u001b[49m\u001b[43m,\u001b[49m\n\u001b[32m   1884\u001b[39m \u001b[43m    \u001b[49m\u001b[43mcompression\u001b[49m\u001b[43m=\u001b[49m\u001b[38;5;28;43mself\u001b[39;49m\u001b[43m.\u001b[49m\u001b[43moptions\u001b[49m\u001b[43m.\u001b[49m\u001b[43mget\u001b[49m\u001b[43m(\u001b[49m\u001b[33;43m\"\u001b[39;49m\u001b[33;43mcompression\u001b[39;49m\u001b[33;43m\"\u001b[39;49m\u001b[43m,\u001b[49m\u001b[43m \u001b[49m\u001b[38;5;28;43;01mNone\u001b[39;49;00m\u001b[43m)\u001b[49m\u001b[43m,\u001b[49m\n\u001b[32m   1885\u001b[39m \u001b[43m    \u001b[49m\u001b[43mmemory_map\u001b[49m\u001b[43m=\u001b[49m\u001b[38;5;28;43mself\u001b[39;49m\u001b[43m.\u001b[49m\u001b[43moptions\u001b[49m\u001b[43m.\u001b[49m\u001b[43mget\u001b[49m\u001b[43m(\u001b[49m\u001b[33;43m\"\u001b[39;49m\u001b[33;43mmemory_map\u001b[39;49m\u001b[33;43m\"\u001b[39;49m\u001b[43m,\u001b[49m\u001b[43m \u001b[49m\u001b[38;5;28;43;01mFalse\u001b[39;49;00m\u001b[43m)\u001b[49m\u001b[43m,\u001b[49m\n\u001b[32m   1886\u001b[39m \u001b[43m    \u001b[49m\u001b[43mis_text\u001b[49m\u001b[43m=\u001b[49m\u001b[43mis_text\u001b[49m\u001b[43m,\u001b[49m\n\u001b[32m   1887\u001b[39m \u001b[43m    \u001b[49m\u001b[43merrors\u001b[49m\u001b[43m=\u001b[49m\u001b[38;5;28;43mself\u001b[39;49m\u001b[43m.\u001b[49m\u001b[43moptions\u001b[49m\u001b[43m.\u001b[49m\u001b[43mget\u001b[49m\u001b[43m(\u001b[49m\u001b[33;43m\"\u001b[39;49m\u001b[33;43mencoding_errors\u001b[39;49m\u001b[33;43m\"\u001b[39;49m\u001b[43m,\u001b[49m\u001b[43m \u001b[49m\u001b[33;43m\"\u001b[39;49m\u001b[33;43mstrict\u001b[39;49m\u001b[33;43m\"\u001b[39;49m\u001b[43m)\u001b[49m\u001b[43m,\u001b[49m\n\u001b[32m   1888\u001b[39m \u001b[43m    \u001b[49m\u001b[43mstorage_options\u001b[49m\u001b[43m=\u001b[49m\u001b[38;5;28;43mself\u001b[39;49m\u001b[43m.\u001b[49m\u001b[43moptions\u001b[49m\u001b[43m.\u001b[49m\u001b[43mget\u001b[49m\u001b[43m(\u001b[49m\u001b[33;43m\"\u001b[39;49m\u001b[33;43mstorage_options\u001b[39;49m\u001b[33;43m\"\u001b[39;49m\u001b[43m,\u001b[49m\u001b[43m \u001b[49m\u001b[38;5;28;43;01mNone\u001b[39;49;00m\u001b[43m)\u001b[49m\u001b[43m,\u001b[49m\n\u001b[32m   1889\u001b[39m \u001b[43m\u001b[49m\u001b[43m)\u001b[49m\n\u001b[32m   1890\u001b[39m \u001b[38;5;28;01massert\u001b[39;00m \u001b[38;5;28mself\u001b[39m.handles \u001b[38;5;129;01mis\u001b[39;00m \u001b[38;5;129;01mnot\u001b[39;00m \u001b[38;5;28;01mNone\u001b[39;00m\n\u001b[32m   1891\u001b[39m f = \u001b[38;5;28mself\u001b[39m.handles.handle\n",
      "\u001b[36mFile \u001b[39m\u001b[32m~/AI_Vault/World-climate/.venv/lib/python3.12/site-packages/pandas/io/common.py:873\u001b[39m, in \u001b[36mget_handle\u001b[39m\u001b[34m(path_or_buf, mode, encoding, compression, memory_map, is_text, errors, storage_options)\u001b[39m\n\u001b[32m    868\u001b[39m \u001b[38;5;28;01melif\u001b[39;00m \u001b[38;5;28misinstance\u001b[39m(handle, \u001b[38;5;28mstr\u001b[39m):\n\u001b[32m    869\u001b[39m     \u001b[38;5;66;03m# Check whether the filename is to be opened in binary mode.\u001b[39;00m\n\u001b[32m    870\u001b[39m     \u001b[38;5;66;03m# Binary mode does not support 'encoding' and 'newline'.\u001b[39;00m\n\u001b[32m    871\u001b[39m     \u001b[38;5;28;01mif\u001b[39;00m ioargs.encoding \u001b[38;5;129;01mand\u001b[39;00m \u001b[33m\"\u001b[39m\u001b[33mb\u001b[39m\u001b[33m\"\u001b[39m \u001b[38;5;129;01mnot\u001b[39;00m \u001b[38;5;129;01min\u001b[39;00m ioargs.mode:\n\u001b[32m    872\u001b[39m         \u001b[38;5;66;03m# Encoding\u001b[39;00m\n\u001b[32m--> \u001b[39m\u001b[32m873\u001b[39m         handle = \u001b[38;5;28;43mopen\u001b[39;49m\u001b[43m(\u001b[49m\n\u001b[32m    874\u001b[39m \u001b[43m            \u001b[49m\u001b[43mhandle\u001b[49m\u001b[43m,\u001b[49m\n\u001b[32m    875\u001b[39m \u001b[43m            \u001b[49m\u001b[43mioargs\u001b[49m\u001b[43m.\u001b[49m\u001b[43mmode\u001b[49m\u001b[43m,\u001b[49m\n\u001b[32m    876\u001b[39m \u001b[43m            \u001b[49m\u001b[43mencoding\u001b[49m\u001b[43m=\u001b[49m\u001b[43mioargs\u001b[49m\u001b[43m.\u001b[49m\u001b[43mencoding\u001b[49m\u001b[43m,\u001b[49m\n\u001b[32m    877\u001b[39m \u001b[43m            \u001b[49m\u001b[43merrors\u001b[49m\u001b[43m=\u001b[49m\u001b[43merrors\u001b[49m\u001b[43m,\u001b[49m\n\u001b[32m    878\u001b[39m \u001b[43m            \u001b[49m\u001b[43mnewline\u001b[49m\u001b[43m=\u001b[49m\u001b[33;43m\"\u001b[39;49m\u001b[33;43m\"\u001b[39;49m\u001b[43m,\u001b[49m\n\u001b[32m    879\u001b[39m \u001b[43m        \u001b[49m\u001b[43m)\u001b[49m\n\u001b[32m    880\u001b[39m     \u001b[38;5;28;01melse\u001b[39;00m:\n\u001b[32m    881\u001b[39m         \u001b[38;5;66;03m# Binary mode\u001b[39;00m\n\u001b[32m    882\u001b[39m         handle = \u001b[38;5;28mopen\u001b[39m(handle, ioargs.mode)\n",
      "\u001b[31mFileNotFoundError\u001b[39m: [Errno 2] No such file or directory: 'data/co2_emissions_cleaned.csv'"
     ]
    }
   ],
   "source": [
    "from src.visualization import plot_emissions_over_time\n",
    "\n",
    "df_cleaned = pd.read_csv(\"Data/co2_emissions_cleaned.csv\")\n",
    "plot_emissions_over_time(df_cleaned, \"visualizations/emissions_over_time.png\")\n"
   ]
  },
  {
   "cell_type": "code",
   "execution_count": 15,
   "id": "5d50e5d5",
   "metadata": {},
   "outputs": [],
   "source": [
    "from src.visualization import plot_emissions_over_time\n",
    "\n",
    "df_cleaned = pd.read_csv(\"Data/co2_emissions_cleaned.csv\")\n",
    "plot_emissions_over_time(df_cleaned, \"visualizations/emissions_over_time.png\")\n"
   ]
  },
  {
   "cell_type": "code",
   "execution_count": 16,
   "id": "3c53cbbf",
   "metadata": {},
   "outputs": [
    {
     "ename": "ImportError",
     "evalue": "cannot import name 'plot_feature_importance' from 'src.visualization' (/home/crystal/AI_Vault/World-climate/src/visualization.py)",
     "output_type": "error",
     "traceback": [
      "\u001b[31m---------------------------------------------------------------------------\u001b[39m",
      "\u001b[31mImportError\u001b[39m                               Traceback (most recent call last)",
      "\u001b[36mCell\u001b[39m\u001b[36m \u001b[39m\u001b[32mIn[16]\u001b[39m\u001b[32m, line 1\u001b[39m\n\u001b[32m----> \u001b[39m\u001b[32m1\u001b[39m \u001b[38;5;28;01mfrom\u001b[39;00m\u001b[38;5;250m \u001b[39m\u001b[34;01msrc\u001b[39;00m\u001b[34;01m.\u001b[39;00m\u001b[34;01mvisualization\u001b[39;00m\u001b[38;5;250m \u001b[39m\u001b[38;5;28;01mimport\u001b[39;00m plot_feature_importance\n\u001b[32m      3\u001b[39m \u001b[38;5;66;03m# Plot and save feature importance\u001b[39;00m\n\u001b[32m      4\u001b[39m plot_feature_importance(model, X.columns, \u001b[33m\"\u001b[39m\u001b[33mvisualizations/feature_importance.png\u001b[39m\u001b[33m\"\u001b[39m)\n",
      "\u001b[31mImportError\u001b[39m: cannot import name 'plot_feature_importance' from 'src.visualization' (/home/crystal/AI_Vault/World-climate/src/visualization.py)"
     ]
    }
   ],
   "source": [
    "from src.visualization import plot_feature_importance\n",
    "\n",
    "# Plot and save feature importance\n",
    "plot_feature_importance(model, X.columns, \"visualizations/feature_importance.png\")\n"
   ]
  },
  {
   "cell_type": "code",
   "execution_count": 1,
   "id": "85d7d446",
   "metadata": {},
   "outputs": [
    {
     "name": "stdout",
     "output_type": "stream",
     "text": [
      "/home/crystal/AI_Vault/World-climate/Data\n"
     ]
    }
   ],
   "source": [
    "import os\n",
    "print(os.getcwd())"
   ]
  },
  {
   "cell_type": "code",
   "execution_count": 2,
   "id": "77fd6e05",
   "metadata": {},
   "outputs": [
    {
     "name": "stdout",
     "output_type": "stream",
     "text": [
      "Now in: /home/crystal/AI_Vault/World-climate\n"
     ]
    }
   ],
   "source": [
    "import os\n",
    "os.chdir(\"..\") \n",
    "print(\"Now in:\", os.getcwd())"
   ]
  },
  {
   "cell_type": "code",
   "execution_count": 3,
   "id": "26dccb36",
   "metadata": {},
   "outputs": [],
   "source": [
    "import sys\n",
    "from pathlib import Path\n",
    "\n",
    "project_root = Path().resolve()\n",
    "if str(project_root) not in sys.path:\n",
    "    sys.path.append(str(project_root))\n",
    "\n",
    "from src.data_preprocessing import load_data, clean_data\n",
    "from src.model_training import prepare_features, split_data"
   ]
  },
  {
   "cell_type": "code",
   "execution_count": 4,
   "id": "f283df3f",
   "metadata": {},
   "outputs": [
    {
     "data": {
      "text/html": [
       "<div>\n",
       "<style scoped>\n",
       "    .dataframe tbody tr th:only-of-type {\n",
       "        vertical-align: middle;\n",
       "    }\n",
       "\n",
       "    .dataframe tbody tr th {\n",
       "        vertical-align: top;\n",
       "    }\n",
       "\n",
       "    .dataframe thead th {\n",
       "        text-align: right;\n",
       "    }\n",
       "</style>\n",
       "<table border=\"1\" class=\"dataframe\">\n",
       "  <thead>\n",
       "    <tr style=\"text-align: right;\">\n",
       "      <th></th>\n",
       "      <th>Country</th>\n",
       "      <th>Data source</th>\n",
       "      <th>Sector</th>\n",
       "      <th>Gas</th>\n",
       "      <th>Unit</th>\n",
       "      <th>Year</th>\n",
       "      <th>Emissions</th>\n",
       "    </tr>\n",
       "  </thead>\n",
       "  <tbody>\n",
       "    <tr>\n",
       "      <th>0</th>\n",
       "      <td>World</td>\n",
       "      <td>CAIT</td>\n",
       "      <td>Total including LUCF</td>\n",
       "      <td>CO2</td>\n",
       "      <td>MtCO₂e</td>\n",
       "      <td>2018</td>\n",
       "      <td>36441.55</td>\n",
       "    </tr>\n",
       "    <tr>\n",
       "      <th>1</th>\n",
       "      <td>China</td>\n",
       "      <td>CAIT</td>\n",
       "      <td>Total including LUCF</td>\n",
       "      <td>CO2</td>\n",
       "      <td>MtCO₂e</td>\n",
       "      <td>2018</td>\n",
       "      <td>9663.36</td>\n",
       "    </tr>\n",
       "    <tr>\n",
       "      <th>2</th>\n",
       "      <td>United States</td>\n",
       "      <td>CAIT</td>\n",
       "      <td>Total including LUCF</td>\n",
       "      <td>CO2</td>\n",
       "      <td>MtCO₂e</td>\n",
       "      <td>2018</td>\n",
       "      <td>4749.57</td>\n",
       "    </tr>\n",
       "    <tr>\n",
       "      <th>3</th>\n",
       "      <td>European Union (27)</td>\n",
       "      <td>CAIT</td>\n",
       "      <td>Total including LUCF</td>\n",
       "      <td>CO2</td>\n",
       "      <td>MtCO₂e</td>\n",
       "      <td>2018</td>\n",
       "      <td>2636.99</td>\n",
       "    </tr>\n",
       "    <tr>\n",
       "      <th>4</th>\n",
       "      <td>India</td>\n",
       "      <td>CAIT</td>\n",
       "      <td>Total including LUCF</td>\n",
       "      <td>CO2</td>\n",
       "      <td>MtCO₂e</td>\n",
       "      <td>2018</td>\n",
       "      <td>2400.25</td>\n",
       "    </tr>\n",
       "  </tbody>\n",
       "</table>\n",
       "</div>"
      ],
      "text/plain": [
       "               Country Data source                Sector  Gas    Unit  Year  \\\n",
       "0                World        CAIT  Total including LUCF  CO2  MtCO₂e  2018   \n",
       "1                China        CAIT  Total including LUCF  CO2  MtCO₂e  2018   \n",
       "2        United States        CAIT  Total including LUCF  CO2  MtCO₂e  2018   \n",
       "3  European Union (27)        CAIT  Total including LUCF  CO2  MtCO₂e  2018   \n",
       "4                India        CAIT  Total including LUCF  CO2  MtCO₂e  2018   \n",
       "\n",
       "   Emissions  \n",
       "0   36441.55  \n",
       "1    9663.36  \n",
       "2    4749.57  \n",
       "3    2636.99  \n",
       "4    2400.25  "
      ]
     },
     "execution_count": 4,
     "metadata": {},
     "output_type": "execute_result"
    }
   ],
   "source": [
    "df = load_data('historical_emissions.csv')  # or 'data/historical_emissions.csv' depending on where the file is\n",
    "df_clean = clean_data(df)\n",
    "df_clean.head()"
   ]
  },
  {
   "cell_type": "code",
   "execution_count": 5,
   "id": "7c23c542",
   "metadata": {},
   "outputs": [],
   "source": [
    "df = load_data('historical_emissions.csv')\n",
    "df_clean = clean_data(df)\n",
    "\n",
    "X, y = prepare_features(df_clean)\n",
    "X_train, X_test, y_train, y_test = split_data(X, y)"
   ]
  },
  {
   "cell_type": "code",
   "execution_count": 6,
   "id": "116196b7",
   "metadata": {},
   "outputs": [
    {
     "name": "stdout",
     "output_type": "stream",
     "text": [
      "Model training complete.\n"
     ]
    }
   ],
   "source": [
    "from src.model_training import train_model\n",
    "\n",
    "model = train_model(X_train, y_train)\n",
    "print(\"Model training complete.\")\n"
   ]
  },
  {
   "cell_type": "code",
   "execution_count": 7,
   "id": "682d9a25",
   "metadata": {},
   "outputs": [
    {
     "name": "stdout",
     "output_type": "stream",
     "text": [
      "Model evaluation complete.\n",
      "Mean Squared Error (MSE): 126690.08\n",
      "R² Score: 0.97\n"
     ]
    }
   ],
   "source": [
    "from sklearn.metrics import mean_squared_error, r2_score\n",
    "\n",
    "# Predict on the test set\n",
    "y_pred = model.predict(X_test)\n",
    "\n",
    "# Evaluate performance\n",
    "mse = mean_squared_error(y_test, y_pred)\n",
    "r2 = r2_score(y_test, y_pred)\n",
    "\n",
    "print(f\"Model evaluation complete.\")\n",
    "print(f\"Mean Squared Error (MSE): {mse:.2f}\")\n",
    "print(f\"R² Score: {r2:.2f}\")"
   ]
  },
  {
   "cell_type": "code",
   "execution_count": 8,
   "id": "c6bb7a6a",
   "metadata": {},
   "outputs": [],
   "source": [
    "from src.model_training import save_model\n",
    "\n",
    "# Save the trained model to models/linear_regression_model.pkl\n",
    "save_model(model, \"models/linear_regression_model.pkl\")"
   ]
  },
  {
   "cell_type": "code",
   "execution_count": 9,
   "id": "a1df804b",
   "metadata": {},
   "outputs": [
    {
     "name": "stdout",
     "output_type": "stream",
     "text": [
      "{'r2_score': 0.9707789148032696, 'rmse': np.float64(355.93549704042033)}\n"
     ]
    }
   ],
   "source": [
    "from src.model_training import evaluate_model\n",
    "\n",
    "metrics = evaluate_model(model, X_test, y_test, \"models/model_metrics.json\")\n",
    "print(metrics)"
   ]
  },
  {
   "cell_type": "code",
   "execution_count": 10,
   "id": "012f1303",
   "metadata": {},
   "outputs": [],
   "source": [
    "from src.visualization import plot_actual_vs_predicted\n",
    "\n",
    "# Predict using your model\n",
    "y_pred = model.predict(X_test)\n",
    "\n",
    "# Generate and save the plot\n",
    "plot_actual_vs_predicted(y_test, y_pred, \"visualizations/actual_vs_predicted.png\")"
   ]
  },
  {
   "cell_type": "code",
   "execution_count": 11,
   "id": "4694108f",
   "metadata": {},
   "outputs": [],
   "source": [
    "from src.visualization import plot_correlation_heatmap\n",
    "\n",
    "# Use your one-hot encoded features (X)\n",
    "plot_correlation_heatmap(X, \"visualizations/correlation_heatmap.png\")"
   ]
  },
  {
   "cell_type": "code",
   "execution_count": 12,
   "id": "4379c82d",
   "metadata": {},
   "outputs": [],
   "source": [
    "from src.visualization import plot_data_distribution"
   ]
  },
  {
   "cell_type": "code",
   "execution_count": 13,
   "id": "970fe9c9",
   "metadata": {},
   "outputs": [],
   "source": [
    "import pandas as pd\n",
    "from src.visualization import plot_data_distribution\n",
    "\n",
    "# Corrected file path\n",
    "df_cleaned = pd.read_csv(\"Data/co2_emissions_cleaned.csv\")\n",
    "\n",
    "# Plot and save the distribution\n",
    "plot_data_distribution(df_cleaned, \"Emissions\", \"visualizations/data_distribution.png\")"
   ]
  },
  {
   "cell_type": "code",
   "execution_count": 14,
   "id": "72cea738",
   "metadata": {},
   "outputs": [],
   "source": [
    "from src.visualization import plot_emissions_over_time\n",
    "\n",
    "df_cleaned = pd.read_csv(\"Data/co2_emissions_cleaned.csv\")\n",
    "plot_emissions_over_time(df_cleaned, \"visualizations/emissions_over_time.png\")"
   ]
  },
  {
   "cell_type": "code",
   "execution_count": 15,
   "id": "588764c6",
   "metadata": {},
   "outputs": [],
   "source": [
    "from src.visualization import plot_feature_importance\n"
   ]
  },
  {
   "cell_type": "code",
   "execution_count": 16,
   "id": "9873e93c",
   "metadata": {},
   "outputs": [
    {
     "ename": "NameError",
     "evalue": "name 'pd' is not defined",
     "output_type": "error",
     "traceback": [
      "\u001b[31m---------------------------------------------------------------------------\u001b[39m",
      "\u001b[31mNameError\u001b[39m                                 Traceback (most recent call last)",
      "\u001b[36mCell\u001b[39m\u001b[36m \u001b[39m\u001b[32mIn[16]\u001b[39m\u001b[32m, line 3\u001b[39m\n\u001b[32m      1\u001b[39m \u001b[38;5;66;03m# Assuming 'model' is your trained linear regression model\u001b[39;00m\n\u001b[32m      2\u001b[39m \u001b[38;5;66;03m# and 'X' is your feature DataFrame\u001b[39;00m\n\u001b[32m----> \u001b[39m\u001b[32m3\u001b[39m \u001b[43mplot_feature_importance\u001b[49m\u001b[43m(\u001b[49m\u001b[43mmodel\u001b[49m\u001b[43m,\u001b[49m\u001b[43m \u001b[49m\u001b[43mX\u001b[49m\u001b[43m.\u001b[49m\u001b[43mcolumns\u001b[49m\u001b[43m,\u001b[49m\u001b[43m \u001b[49m\u001b[33;43m\"\u001b[39;49m\u001b[33;43mvisualizations/feature_importance.png\u001b[39;49m\u001b[33;43m\"\u001b[39;49m\u001b[43m)\u001b[49m\n",
      "\u001b[36mFile \u001b[39m\u001b[32m~/AI_Vault/World-climate/src/visualization.py:73\u001b[39m, in \u001b[36mplot_feature_importance\u001b[39m\u001b[34m(model, feature_names, save_path)\u001b[39m\n\u001b[32m     70\u001b[39m \u001b[38;5;28;01mimport\u001b[39;00m\u001b[38;5;250m \u001b[39m\u001b[34;01mnumpy\u001b[39;00m\u001b[38;5;250m \u001b[39m\u001b[38;5;28;01mas\u001b[39;00m\u001b[38;5;250m \u001b[39m\u001b[34;01mnp\u001b[39;00m\n\u001b[32m     72\u001b[39m coefficients = model.coef_\n\u001b[32m---> \u001b[39m\u001b[32m73\u001b[39m importance = \u001b[43mpd\u001b[49m.Series(coefficients, index=feature_names).sort_values()\n\u001b[32m     75\u001b[39m plt.figure(figsize=(\u001b[32m10\u001b[39m, \u001b[32m6\u001b[39m))\n\u001b[32m     76\u001b[39m importance.plot(kind=\u001b[33m'\u001b[39m\u001b[33mbarh\u001b[39m\u001b[33m'\u001b[39m, color=\u001b[33m'\u001b[39m\u001b[33mskyblue\u001b[39m\u001b[33m'\u001b[39m)\n",
      "\u001b[31mNameError\u001b[39m: name 'pd' is not defined"
     ]
    }
   ],
   "source": [
    "# Assuming 'model' is your trained linear regression model\n",
    "# and 'X' is your feature DataFrame\n",
    "plot_feature_importance(model, X.columns, \"visualizations/feature_importance.png\")\n"
   ]
  },
  {
   "cell_type": "code",
   "execution_count": 17,
   "id": "b9455c4d",
   "metadata": {},
   "outputs": [
    {
     "ename": "NameError",
     "evalue": "name 'pd' is not defined",
     "output_type": "error",
     "traceback": [
      "\u001b[31m---------------------------------------------------------------------------\u001b[39m",
      "\u001b[31mNameError\u001b[39m                                 Traceback (most recent call last)",
      "\u001b[36mCell\u001b[39m\u001b[36m \u001b[39m\u001b[32mIn[17]\u001b[39m\u001b[32m, line 1\u001b[39m\n\u001b[32m----> \u001b[39m\u001b[32m1\u001b[39m \u001b[43mplot_feature_importance\u001b[49m\u001b[43m(\u001b[49m\u001b[43mmodel\u001b[49m\u001b[43m,\u001b[49m\u001b[43m \u001b[49m\u001b[43mX\u001b[49m\u001b[43m.\u001b[49m\u001b[43mcolumns\u001b[49m\u001b[43m,\u001b[49m\u001b[43m \u001b[49m\u001b[33;43m\"\u001b[39;49m\u001b[33;43mvisualizations/feature_importance.png\u001b[39;49m\u001b[33;43m\"\u001b[39;49m\u001b[43m)\u001b[49m\n",
      "\u001b[36mFile \u001b[39m\u001b[32m~/AI_Vault/World-climate/src/visualization.py:73\u001b[39m, in \u001b[36mplot_feature_importance\u001b[39m\u001b[34m(model, feature_names, save_path)\u001b[39m\n\u001b[32m     70\u001b[39m \u001b[38;5;28;01mimport\u001b[39;00m\u001b[38;5;250m \u001b[39m\u001b[34;01mnumpy\u001b[39;00m\u001b[38;5;250m \u001b[39m\u001b[38;5;28;01mas\u001b[39;00m\u001b[38;5;250m \u001b[39m\u001b[34;01mnp\u001b[39;00m\n\u001b[32m     72\u001b[39m coefficients = model.coef_\n\u001b[32m---> \u001b[39m\u001b[32m73\u001b[39m importance = \u001b[43mpd\u001b[49m.Series(coefficients, index=feature_names).sort_values()\n\u001b[32m     75\u001b[39m plt.figure(figsize=(\u001b[32m10\u001b[39m, \u001b[32m6\u001b[39m))\n\u001b[32m     76\u001b[39m importance.plot(kind=\u001b[33m'\u001b[39m\u001b[33mbarh\u001b[39m\u001b[33m'\u001b[39m, color=\u001b[33m'\u001b[39m\u001b[33mskyblue\u001b[39m\u001b[33m'\u001b[39m)\n",
      "\u001b[31mNameError\u001b[39m: name 'pd' is not defined"
     ]
    }
   ],
   "source": [
    "plot_feature_importance(model, X.columns, \"visualizations/feature_importance.png\")\n"
   ]
  },
  {
   "cell_type": "code",
   "execution_count": 18,
   "id": "e9365341",
   "metadata": {},
   "outputs": [
    {
     "ename": "NameError",
     "evalue": "name 'pd' is not defined",
     "output_type": "error",
     "traceback": [
      "\u001b[31m---------------------------------------------------------------------------\u001b[39m",
      "\u001b[31mNameError\u001b[39m                                 Traceback (most recent call last)",
      "\u001b[36mCell\u001b[39m\u001b[36m \u001b[39m\u001b[32mIn[18]\u001b[39m\u001b[32m, line 1\u001b[39m\n\u001b[32m----> \u001b[39m\u001b[32m1\u001b[39m \u001b[43mplot_feature_importance\u001b[49m\u001b[43m(\u001b[49m\u001b[43mmodel\u001b[49m\u001b[43m,\u001b[49m\u001b[43m \u001b[49m\u001b[43mX\u001b[49m\u001b[43m.\u001b[49m\u001b[43mcolumns\u001b[49m\u001b[43m,\u001b[49m\u001b[43m \u001b[49m\u001b[33;43m\"\u001b[39;49m\u001b[33;43mvisualizations/feature_importance.png\u001b[39;49m\u001b[33;43m\"\u001b[39;49m\u001b[43m)\u001b[49m\n",
      "\u001b[36mFile \u001b[39m\u001b[32m~/AI_Vault/World-climate/src/visualization.py:73\u001b[39m, in \u001b[36mplot_feature_importance\u001b[39m\u001b[34m(model, feature_names, save_path)\u001b[39m\n\u001b[32m     70\u001b[39m \u001b[38;5;28;01mimport\u001b[39;00m\u001b[38;5;250m \u001b[39m\u001b[34;01mnumpy\u001b[39;00m\u001b[38;5;250m \u001b[39m\u001b[38;5;28;01mas\u001b[39;00m\u001b[38;5;250m \u001b[39m\u001b[34;01mnp\u001b[39;00m\n\u001b[32m     72\u001b[39m coefficients = model.coef_\n\u001b[32m---> \u001b[39m\u001b[32m73\u001b[39m importance = \u001b[43mpd\u001b[49m.Series(coefficients, index=feature_names).sort_values()\n\u001b[32m     75\u001b[39m plt.figure(figsize=(\u001b[32m10\u001b[39m, \u001b[32m6\u001b[39m))\n\u001b[32m     76\u001b[39m importance.plot(kind=\u001b[33m'\u001b[39m\u001b[33mbarh\u001b[39m\u001b[33m'\u001b[39m, color=\u001b[33m'\u001b[39m\u001b[33mskyblue\u001b[39m\u001b[33m'\u001b[39m)\n",
      "\u001b[31mNameError\u001b[39m: name 'pd' is not defined"
     ]
    }
   ],
   "source": [
    "plot_feature_importance(model, X.columns, \"visualizations/feature_importance.png\")\n"
   ]
  },
  {
   "cell_type": "code",
   "execution_count": 1,
   "id": "ce5227f4",
   "metadata": {},
   "outputs": [
    {
     "name": "stdout",
     "output_type": "stream",
     "text": [
      "/home/crystal/AI_Vault/World-climate/Data\n"
     ]
    }
   ],
   "source": [
    "import os\n",
    "print(os.getcwd())"
   ]
  },
  {
   "cell_type": "code",
   "execution_count": 2,
   "id": "5f5aa546",
   "metadata": {},
   "outputs": [
    {
     "name": "stdout",
     "output_type": "stream",
     "text": [
      "Now in: /home/crystal/AI_Vault/World-climate\n"
     ]
    }
   ],
   "source": [
    "import os\n",
    "os.chdir(\"..\") \n",
    "print(\"Now in:\", os.getcwd())"
   ]
  },
  {
   "cell_type": "code",
   "execution_count": 3,
   "id": "8f25e1ec",
   "metadata": {},
   "outputs": [],
   "source": [
    "import sys\n",
    "from pathlib import Path\n",
    "\n",
    "project_root = Path().resolve()\n",
    "if str(project_root) not in sys.path:\n",
    "    sys.path.append(str(project_root))\n",
    "\n",
    "from src.data_preprocessing import load_data, clean_data\n",
    "from src.model_training import prepare_features, split_data"
   ]
  },
  {
   "cell_type": "code",
   "execution_count": 4,
   "id": "97285500",
   "metadata": {},
   "outputs": [
    {
     "data": {
      "text/html": [
       "<div>\n",
       "<style scoped>\n",
       "    .dataframe tbody tr th:only-of-type {\n",
       "        vertical-align: middle;\n",
       "    }\n",
       "\n",
       "    .dataframe tbody tr th {\n",
       "        vertical-align: top;\n",
       "    }\n",
       "\n",
       "    .dataframe thead th {\n",
       "        text-align: right;\n",
       "    }\n",
       "</style>\n",
       "<table border=\"1\" class=\"dataframe\">\n",
       "  <thead>\n",
       "    <tr style=\"text-align: right;\">\n",
       "      <th></th>\n",
       "      <th>Country</th>\n",
       "      <th>Data source</th>\n",
       "      <th>Sector</th>\n",
       "      <th>Gas</th>\n",
       "      <th>Unit</th>\n",
       "      <th>Year</th>\n",
       "      <th>Emissions</th>\n",
       "    </tr>\n",
       "  </thead>\n",
       "  <tbody>\n",
       "    <tr>\n",
       "      <th>0</th>\n",
       "      <td>World</td>\n",
       "      <td>CAIT</td>\n",
       "      <td>Total including LUCF</td>\n",
       "      <td>CO2</td>\n",
       "      <td>MtCO₂e</td>\n",
       "      <td>2018</td>\n",
       "      <td>36441.55</td>\n",
       "    </tr>\n",
       "    <tr>\n",
       "      <th>1</th>\n",
       "      <td>China</td>\n",
       "      <td>CAIT</td>\n",
       "      <td>Total including LUCF</td>\n",
       "      <td>CO2</td>\n",
       "      <td>MtCO₂e</td>\n",
       "      <td>2018</td>\n",
       "      <td>9663.36</td>\n",
       "    </tr>\n",
       "    <tr>\n",
       "      <th>2</th>\n",
       "      <td>United States</td>\n",
       "      <td>CAIT</td>\n",
       "      <td>Total including LUCF</td>\n",
       "      <td>CO2</td>\n",
       "      <td>MtCO₂e</td>\n",
       "      <td>2018</td>\n",
       "      <td>4749.57</td>\n",
       "    </tr>\n",
       "    <tr>\n",
       "      <th>3</th>\n",
       "      <td>European Union (27)</td>\n",
       "      <td>CAIT</td>\n",
       "      <td>Total including LUCF</td>\n",
       "      <td>CO2</td>\n",
       "      <td>MtCO₂e</td>\n",
       "      <td>2018</td>\n",
       "      <td>2636.99</td>\n",
       "    </tr>\n",
       "    <tr>\n",
       "      <th>4</th>\n",
       "      <td>India</td>\n",
       "      <td>CAIT</td>\n",
       "      <td>Total including LUCF</td>\n",
       "      <td>CO2</td>\n",
       "      <td>MtCO₂e</td>\n",
       "      <td>2018</td>\n",
       "      <td>2400.25</td>\n",
       "    </tr>\n",
       "  </tbody>\n",
       "</table>\n",
       "</div>"
      ],
      "text/plain": [
       "               Country Data source                Sector  Gas    Unit  Year  \\\n",
       "0                World        CAIT  Total including LUCF  CO2  MtCO₂e  2018   \n",
       "1                China        CAIT  Total including LUCF  CO2  MtCO₂e  2018   \n",
       "2        United States        CAIT  Total including LUCF  CO2  MtCO₂e  2018   \n",
       "3  European Union (27)        CAIT  Total including LUCF  CO2  MtCO₂e  2018   \n",
       "4                India        CAIT  Total including LUCF  CO2  MtCO₂e  2018   \n",
       "\n",
       "   Emissions  \n",
       "0   36441.55  \n",
       "1    9663.36  \n",
       "2    4749.57  \n",
       "3    2636.99  \n",
       "4    2400.25  "
      ]
     },
     "execution_count": 4,
     "metadata": {},
     "output_type": "execute_result"
    }
   ],
   "source": [
    "df = load_data('historical_emissions.csv')  # or 'data/historical_emissions.csv' depending on where the file is\n",
    "df_clean = clean_data(df)\n",
    "df_clean.head()"
   ]
  },
  {
   "cell_type": "code",
   "execution_count": 5,
   "id": "361b3b60",
   "metadata": {},
   "outputs": [],
   "source": [
    "df = load_data('historical_emissions.csv')\n",
    "df_clean = clean_data(df)\n",
    "\n",
    "X, y = prepare_features(df_clean)\n",
    "X_train, X_test, y_train, y_test = split_data(X, y)"
   ]
  },
  {
   "cell_type": "code",
   "execution_count": 6,
   "id": "35072b30",
   "metadata": {},
   "outputs": [
    {
     "name": "stdout",
     "output_type": "stream",
     "text": [
      "Model training complete.\n"
     ]
    }
   ],
   "source": [
    "from src.model_training import train_model\n",
    "\n",
    "model = train_model(X_train, y_train)\n",
    "print(\"Model training complete.\")\n"
   ]
  },
  {
   "cell_type": "code",
   "execution_count": 7,
   "id": "32597329",
   "metadata": {},
   "outputs": [
    {
     "name": "stdout",
     "output_type": "stream",
     "text": [
      "Model evaluation complete.\n",
      "Mean Squared Error (MSE): 126690.08\n",
      "R² Score: 0.97\n"
     ]
    }
   ],
   "source": [
    "from sklearn.metrics import mean_squared_error, r2_score\n",
    "\n",
    "# Predict on the test set\n",
    "y_pred = model.predict(X_test)\n",
    "\n",
    "# Evaluate performance\n",
    "mse = mean_squared_error(y_test, y_pred)\n",
    "r2 = r2_score(y_test, y_pred)\n",
    "\n",
    "print(f\"Model evaluation complete.\")\n",
    "print(f\"Mean Squared Error (MSE): {mse:.2f}\")\n",
    "print(f\"R² Score: {r2:.2f}\")"
   ]
  },
  {
   "cell_type": "code",
   "execution_count": 8,
   "id": "203afe15",
   "metadata": {},
   "outputs": [],
   "source": [
    "from src.model_training import save_model\n",
    "\n",
    "# Save the trained model to models/linear_regression_model.pkl\n",
    "save_model(model, \"models/linear_regression_model.pkl\")"
   ]
  },
  {
   "cell_type": "code",
   "execution_count": 9,
   "id": "6304da3e",
   "metadata": {},
   "outputs": [
    {
     "name": "stdout",
     "output_type": "stream",
     "text": [
      "{'r2_score': 0.9707789148032696, 'rmse': np.float64(355.93549704042033)}\n"
     ]
    }
   ],
   "source": [
    "from src.model_training import evaluate_model\n",
    "\n",
    "metrics = evaluate_model(model, X_test, y_test, \"models/model_metrics.json\")\n",
    "print(metrics)"
   ]
  },
  {
   "cell_type": "code",
   "execution_count": 10,
   "id": "def82272",
   "metadata": {},
   "outputs": [],
   "source": [
    "from src.visualization import plot_actual_vs_predicted\n",
    "\n",
    "# Predict using your model\n",
    "y_pred = model.predict(X_test)\n",
    "\n",
    "# Generate and save the plot\n",
    "plot_actual_vs_predicted(y_test, y_pred, \"visualizations/actual_vs_predicted.png\")"
   ]
  },
  {
   "cell_type": "code",
   "execution_count": 11,
   "id": "e14d3bd2",
   "metadata": {},
   "outputs": [],
   "source": [
    "from src.visualization import plot_correlation_heatmap\n",
    "\n",
    "# Use your one-hot encoded features (X)\n",
    "plot_correlation_heatmap(X, \"visualizations/correlation_heatmap.png\")"
   ]
  },
  {
   "cell_type": "code",
   "execution_count": 12,
   "id": "4bb698fe",
   "metadata": {},
   "outputs": [],
   "source": [
    "from src.visualization import plot_data_distribution"
   ]
  },
  {
   "cell_type": "code",
   "execution_count": 13,
   "id": "bc06a9d7",
   "metadata": {},
   "outputs": [],
   "source": [
    "import pandas as pd\n",
    "from src.visualization import plot_data_distribution\n",
    "\n",
    "# Corrected file path\n",
    "df_cleaned = pd.read_csv(\"Data/co2_emissions_cleaned.csv\")\n",
    "\n",
    "# Plot and save the distribution\n",
    "plot_data_distribution(df_cleaned, \"Emissions\", \"visualizations/data_distribution.png\")"
   ]
  },
  {
   "cell_type": "code",
   "execution_count": 14,
   "id": "c2b0bd5e",
   "metadata": {},
   "outputs": [],
   "source": [
    "from src.visualization import plot_emissions_over_time\n",
    "\n",
    "df_cleaned = pd.read_csv(\"Data/co2_emissions_cleaned.csv\")\n",
    "plot_emissions_over_time(df_cleaned, \"visualizations/emissions_over_time.png\")"
   ]
  },
  {
   "cell_type": "code",
   "execution_count": 15,
   "id": "860852d1",
   "metadata": {},
   "outputs": [],
   "source": [
    "from src.visualization import plot_feature_importance"
   ]
  },
  {
   "cell_type": "code",
   "execution_count": 16,
   "id": "0b490306",
   "metadata": {},
   "outputs": [],
   "source": [
    "plot_feature_importance(model, X.columns, \"visualizations/feature_importance.png\")\n"
   ]
  },
  {
   "cell_type": "code",
   "execution_count": null,
   "id": "191b8f7d",
   "metadata": {},
   "outputs": [],
   "source": []
  }
 ],
 "metadata": {
  "kernelspec": {
   "display_name": "Python (WorldClimate)",
   "language": "python",
   "name": "worldclimate-venv"
  },
  "language_info": {
   "codemirror_mode": {
    "name": "ipython",
    "version": 3
   },
   "file_extension": ".py",
   "mimetype": "text/x-python",
   "name": "python",
   "nbconvert_exporter": "python",
   "pygments_lexer": "ipython3",
   "version": "3.12.3"
  }
 },
 "nbformat": 4,
 "nbformat_minor": 5
}
